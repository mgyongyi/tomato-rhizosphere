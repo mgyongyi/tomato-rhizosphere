{
 "cells": [
  {
   "cell_type": "code",
   "execution_count": 5,
   "metadata": {},
   "outputs": [],
   "source": [
    "from Bio import SeqIO"
   ]
  },
  {
   "cell_type": "code",
   "execution_count": 7,
   "metadata": {},
   "outputs": [
    {
     "name": "stdout",
     "output_type": "stream",
     "text": [
      "type: aSDomain\n",
      "location: [93:297](+)\n",
      "qualifiers:\n",
      "    Key: aSDomain, Value: ['PCP']\n",
      "    Key: aSTool, Value: ['nrps_pks_domains']\n",
      "    Key: database, Value: ['nrpspksdomains.hmm']\n",
      "    Key: detection, Value: ['hmmscan']\n",
      "    Key: domain_id, Value: ['nrpspksdomains_EMEGMFMJ_34019_PCP.1']\n",
      "    Key: evalue, Value: ['6.40E-24']\n",
      "    Key: label, Value: ['EMEGMFMJ_34019_PCP.1']\n",
      "    Key: locus_tag, Value: ['EMEGMFMJ_34019']\n",
      "    Key: protein_end, Value: ['99']\n",
      "    Key: protein_start, Value: ['31']\n",
      "    Key: score, Value: ['75.8']\n",
      "    Key: tool, Value: ['antismash']\n",
      "    Key: translation, Value: ['ERRLAELWAEVLNLPLESIGAHSDFFELGGHSLLAVRLMAGIERCFGTLLPLAILFAAPTIAELAKRL']\n",
      "\n"
     ]
    }
   ],
   "source": [
    "def get_cds_feature_with_qualifier_value(seq_record, name, value):\n",
    "    \"\"\"Function to look for CDS feature by annotation value in sequence record.\n",
    "    \n",
    "    e.g. You can use this for finding features by locus tag, gene ID, or protein ID.\n",
    "    \"\"\"\n",
    "    # Loop over the features\n",
    "    for feature in genome_record.features:\n",
    "        if feature.type == \"aSDomain\" and value in feature.qualifiers.get(name, []):\n",
    "            return feature\n",
    "    # Could not find it\n",
    "    return None\n",
    "\n",
    "genome_record = SeqIO.read(\"../OUTPUTS/IMP3_assembly/T_722_5/antismash_output/c00034_test_co...region001.gbk\", \"genbank\")\n",
    "cds_feature = get_cds_feature_with_qualifier_value(genome_record, \"locus_tag\", \"EMEGMFMJ_34019\")\n",
    "print(cds_feature)"
   ]
  },
  {
   "cell_type": "code",
   "execution_count": null,
   "metadata": {},
   "outputs": [],
   "source": []
  }
 ],
 "metadata": {
  "kernelspec": {
   "display_name": "Python 3.8.5 ('base')",
   "language": "python",
   "name": "python3"
  },
  "language_info": {
   "codemirror_mode": {
    "name": "ipython",
    "version": 3
   },
   "file_extension": ".py",
   "mimetype": "text/x-python",
   "name": "python",
   "nbconvert_exporter": "python",
   "pygments_lexer": "ipython3",
   "version": "3.8.5"
  },
  "orig_nbformat": 4,
  "vscode": {
   "interpreter": {
    "hash": "0dd84e6e4655a1be09e25480d2aa07830f784093fb8ac0847c23715d011b335f"
   }
  }
 },
 "nbformat": 4,
 "nbformat_minor": 2
}
