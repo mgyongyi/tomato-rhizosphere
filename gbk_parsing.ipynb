{
 "cells": [
  {
   "cell_type": "code",
   "execution_count": 2,
   "metadata": {},
   "outputs": [],
   "source": [
    "from Bio import SeqIO"
   ]
  },
  {
   "cell_type": "code",
   "execution_count": 3,
   "metadata": {},
   "outputs": [
    {
     "name": "stdout",
     "output_type": "stream",
     "text": [
      "type: CDS\n",
      "location: [7548:10452](-)\n",
      "qualifiers:\n",
      "    Key: ID, Value: ['EMEGMFMJ_342197']\n",
      "    Key: gene, Value: ['EMEGMFMJ_342197']\n",
      "    Key: gene_functions, Value: ['biosynthetic (rule-based-clusters) lanthipeptide-class-i: Lant_dehydr_C', 'biosynthetic (rule-based-clusters) lanthipeptide-class-i: Lant_dehydr_N', 'biosynthetic-additional (rule-based-clusters) Lanthipeptide_LanB_RRE', 'biosynthetic-additional (smcogs) SMCOG1155:Lantibiotic dehydratase domain protein (Score: 856.3; E-value: 4.7e-259)']\n",
      "    Key: gene_kind, Value: ['biosynthetic']\n",
      "    Key: inference, Value: ['ab initio prediction:Prodigal_v2.6.3']\n",
      "    Key: locus_tag, Value: ['EMEGMFMJ_342197']\n",
      "    Key: note, Value: ['smCOG tree PNG image: smcogs/EMEGMFMJ_342197.png']\n",
      "    Key: partial, Value: ['00']\n",
      "    Key: phase, Value: ['0']\n",
      "    Key: product, Value: ['unannotated protein']\n",
      "    Key: sec_met_domain, Value: ['Lant_dehydr_N (E-value: 4e-113, bitscore: 368.3, seeds: 73, tool: rule-based-clusters)', 'Lant_dehydr_C (E-value: 3.2e-29, bitscore: 92.1, seeds: 35, tool: rule-based-clusters)', 'Lanthipeptide_LanB_RRE (E-value: 4.8e-21, bitscore: 65.1, seeds: 20, tool: rule-based-clusters)']\n",
      "    Key: source, Value: ['Prodigal_v2.6.3']\n",
      "    Key: transl_table, Value: ['11']\n",
      "    Key: translation, Value: ['MYRYVDAALIRAAAGQPDTQVTWPDLVSTTAGAVSWCAWLQEVWRIGDFADAVSAASPDLASRVEQICTGHHLPEPTVRRIVLAVLRYLLRARTRATPFGLFAGVAAASIGAAPALRLGSEHRPTARADAARSTSLIDRFEQHPALRPHLMLLTSTLAVERDDQVVIDHRPGGKPGAGLEHVHIRMTEPVRAALDGAQSPIPWCDLASKLAAGFPDTSPNLIDKLLASLVTQQFLLTSLRPAMATHDPLTGLHDHEHRLSNQERAEVRATPRHAQDLLLDCDLTIPDTVAREATAAAKALTRLAPRAALTGWAEWHDRFLDRYGPRAVVPVLDAIDALGYPPGYLGATAAPTLSPLPDRDARLIKLAHTAAVQGRLEVVLDDAALESLATTGAEHPVQPSTELTVRIDAADSAALEQGEFSLHVVGVARSAGATTGRFLDMLPDEHRRRMTEVYAALPGVHDDALVAQISAVPLSVRAANVARAPQVTDLVISLGEYRGPGSRLLPVTDLAVIADAGQLHLVSLSRRRPVHALLLNAVDLGLHSHPLTRFLAEAPVALAVPCAGFLWGTAASNLPFLPALRYGRTILSPARWLLARGDLPAASTPWLQWDEALSRWCRDVRLPERVYLSEADQCLALDLTEPSHRALLRTHLDRDGTVTLRPAPEPQDLGWIGGRAHEVVIPLISDQNHTSVRTAPHVVTREHGRLPGSGELLYVQLHGDPARQDHILTRHLPVLLAELKPPRCWFVRYSEPGHHLRLRLSCTPGALGATFEYVGAWTEELRRHGLITHVSVETYHPEIARYGGPTAIDAAEAYFAADSTAVLAQLVAGLAKNAPDARAVTVASMVDIATGLLGDRARAMGWLIAHTRTDSAAPPRPVHRQAVELVHTHPVGLAEQTAGAWSARRMALADYAEALLAAGADPGDLLPDLLHLHHVRMHGPGLPEERTHLHLARAAALSWTARSRRTA']\n",
      "\n"
     ]
    }
   ],
   "source": [
    "def get_cds_feature_with_qualifier_value(seq_record, name, value):\n",
    "    \"\"\"Function to look for CDS feature by annotation value in sequence record.\n",
    "    \n",
    "    e.g. You can use this for finding features by locus tag, gene ID, or protein ID.\n",
    "    \"\"\"\n",
    "    # Loop over the features\n",
    "    for feature in genome_record.features:\n",
    "        if feature.type == \"CDS\" and value in feature.qualifiers.get(name, []):\n",
    "            return feature\n",
    "    # Could not find it\n",
    "    return None\n",
    "\n",
    "genome_record = SeqIO.read(\"../OUTPUTS/IMP3_assembly/T_722_5/antismash_output/c00375_test_co...region001.gbk\", \"genbank\")\n",
    "cds_feature = get_cds_feature_with_qualifier_value(genome_record, \"locus_tag\", \"EMEGMFMJ_342197\")\n",
    "print(cds_feature)"
   ]
  },
  {
   "cell_type": "code",
   "execution_count": 4,
   "metadata": {},
   "outputs": [
    {
     "name": "stdout",
     "output_type": "stream",
     "text": [
      "['test_contig_245285\\tantismash protocluster\\t0\\t13115\\t.\\t+\\taStool=rule-based-clusters;category=RiPP;contig_edge=True;core_location=[5459:10452];cutoff=20000;detection_rule=((LANC_like and (Lant_dehydr_N or Lant_dehydr_C)) and not (YcaO or TIGR03882));neighbourhood=10000;product=lanthipeptide-class-i;protocluster_number=1;tool=antismash;', 'test_contig_245285\\tantismash proto_core\\t5459\\t10452\\t.\\t+\\taStool=rule-based-clusters;tool=antismash;cutoff=20000;detection_rule=((LANC_like and (Lant_dehydr_N or Lant_dehydr_C)) and not (YcaO or TIGR03882));neighbourhood=10000;product=lanthipeptide-class-i;protocluster_number=1;', 'test_contig_245285\\tantismash cand_cluster\\t0\\t13115\\t.\\t+\\tcandidate_cluster_number=1;contig_edge=True;detection_rules=((LANC_like and (Lant_dehydr_N or Lant_dehydr_C)) and not (YcaO or TIGR03882));kind=single;product=lanthipeptide-class-i;protoclusters=1;tool=antismash;', 'test_contig_245285\\tantismash region\\t0\\t13115\\t.\\t+\\tcandidate_cluster_numbers=1;contig_edge=True;product=lanthipeptide-class-i;region_number=1;rules=((LANC_like and (Lant_dehydr_N or Lant_dehydr_C)) and not (YcaO or TIGR03882));tool=antismash;', 'test_contig_245285\\tProdigal_v2.6.3 CDS\\t214\\t2230\\t.\\t-\\t0\\tinference=ab initio prediction:Prodigal_v2.6.3;locus_tag=EMEGMFMJ_342191;phase=0;product=unannotated protein;source=Prodigal_v2.6.3;transl_table=11;', 'test_contig_245285\\tProdigal_v2.6.3 CDS\\t2235\\t2802\\t.\\t-\\t0\\tinference=ab initio prediction:Prodigal_v2.6.3;locus_tag=EMEGMFMJ_342192;phase=0;product=unannotated protein;source=Prodigal_v2.6.3;transl_table=11;', 'test_contig_245285\\tProdigal_v2.6.3 CDS\\t2849\\t3821\\t.\\t-\\t0\\tinference=ab initio prediction:Prodigal_v2.6.3;locus_tag=EMEGMFMJ_342193;phase=0;product=unannotated protein;source=Prodigal_v2.6.3;transl_table=11;', 'test_contig_245285\\tProdigal_v2.6.3 CDS\\t4366\\t5476\\t.\\t-\\t0\\tinference=ab initio prediction:Prodigal_v2.6.3;locus_tag=EMEGMFMJ_342194;phase=0;product=unannotated protein;source=Prodigal_v2.6.3;transl_table=11;', 'test_contig_245285\\tProdigal_v2.6.3 CDS\\t5459\\t6290\\t.\\t-\\t0\\tgene_functions=biosynthetic (rule-based-clusters) lanthipeptide-class-i: Lant_dehydr_C;gene_kind=biosynthetic;inference=ab initio prediction:Prodigal_v2.6.3;locus_tag=EMEGMFMJ_342195;phase=0;product=unannotated protein;sec_met_domain=Lant_dehydr_C (E-value: 4.5e-38, bitscore: 121.1, seeds: 35, tool: rule-based-clusters);source=Prodigal_v2.6.3;transl_table=11;', 'test_contig_245285\\tantismash PFAM_domain\\t5522\\t6275\\t.\\t-\\taSDomain=Lant_dehydr_C;aSTool=clusterhmmer;database=34.0;db_xref=PF14028.8;description=Lantibiotic biosynthesis dehydratase C-term;detection=hmmscan;evalue=6.70E-39;label=EMEGMFMJ_342195;locus_tag=EMEGMFMJ_342195;protein_end=256;protein_start=5;score=134.4;tool=antismash;', \"test_contig_245285\\tProdigal_v2.6.3 CDS\\t6310\\t7552\\t.\\t-\\t0\\tgene_functions=['biosynthetic (rule-based-clusters) lanthipeptide-class-i: LANC_like', 'biosynthetic-additional (smcogs) SMCOG1140:Lanthionine synthetase C family protein (Score: 365.1; E-value: 7.1e-111)'];gene_kind=biosynthetic;inference=ab initio prediction:Prodigal_v2.6.3;locus_tag=EMEGMFMJ_342196;note=smCOG tree PNG image: smcogs/EMEGMFMJ_342196.png;phase=0;product=unannotated protein;sec_met_domain=LANC_like (E-value: 4.4e-44, bitscore: 140.3, seeds: 47, tool: rule-based-clusters);source=Prodigal_v2.6.3;transl_table=11;\", 'test_contig_245285\\tantismash PFAM_domain\\t6334\\t7441\\t.\\t-\\taSDomain=LANC_like;aSTool=clusterhmmer;database=34.0;db_xref=PF05147.15;description=Lanthionine synthetase C-like protein;detection=hmmscan;evalue=1.20E-42;label=EMEGMFMJ_342196;locus_tag=EMEGMFMJ_342196;protein_end=406;protein_start=37;score=145.9;tool=antismash;', \"test_contig_245285\\tProdigal_v2.6.3 CDS\\t7548\\t10452\\t.\\t-\\t0\\tgene_functions=['biosynthetic (rule-based-clusters) lanthipeptide-class-i: Lant_dehydr_C', 'biosynthetic (rule-based-clusters) lanthipeptide-class-i: Lant_dehydr_N', 'biosynthetic-additional (rule-based-clusters) Lanthipeptide_LanB_RRE', 'biosynthetic-additional (smcogs) SMCOG1155:Lantibiotic dehydratase domain protein (Score: 856.3; E-value: 4.7e-259)'];gene_kind=biosynthetic;inference=ab initio prediction:Prodigal_v2.6.3;locus_tag=EMEGMFMJ_342197;note=smCOG tree PNG image: smcogs/EMEGMFMJ_342197.png;phase=0;product=unannotated protein;sec_met_domain=['Lant_dehydr_N (E-value: 4e-113, bitscore: 368.3, seeds: 73, tool: rule-based-clusters)', 'Lant_dehydr_C (E-value: 3.2e-29, bitscore: 92.1, seeds: 35, tool: rule-based-clusters)', 'Lanthipeptide_LanB_RRE (E-value: 4.8e-21, bitscore: 65.1, seeds: 20, tool: rule-based-clusters)'];source=Prodigal_v2.6.3;transl_table=11;\", 'test_contig_245285\\tantismash PFAM_domain\\t7584\\t8316\\t.\\t-\\taSDomain=Lant_dehydr_C;aSTool=clusterhmmer;database=34.0;db_xref=PF14028.8;description=Lantibiotic biosynthesis dehydratase C-term;detection=hmmscan;evalue=8.80E-28;label=EMEGMFMJ_342197;locus_tag=EMEGMFMJ_342197;protein_end=956;protein_start=712;score=98.0;tool=antismash;', 'test_contig_245285\\tantismash PFAM_domain\\t8508\\t9642\\t.\\t-\\taSDomain=Lant_dehydr_N;aSTool=clusterhmmer;database=34.0;db_xref=PF04738.15;description=Lantibiotic dehydratase, N terminus;detection=hmmscan;evalue=1.80E-112;label=EMEGMFMJ_342197;locus_tag=EMEGMFMJ_342197;protein_end=648;protein_start=270;score=376.6;tool=antismash;', 'test_contig_245285\\tantismash PFAM_domain\\t9690\\t10308\\t.\\t-\\taSDomain=Lant_dehydr_N;aSTool=clusterhmmer;database=34.0;db_xref=PF04738.15;description=Lantibiotic dehydratase, N terminus;detection=hmmscan;evalue=9.90E-56;label=EMEGMFMJ_342197;locus_tag=EMEGMFMJ_342197;protein_end=254;protein_start=48;score=189.1;tool=antismash;', 'test_contig_245285\\tantismash misc_feature\\t10233\\t10236\\t.\\t-\\tnote=tta leucine codon, possible target for bldA regulation;tool=antismash;', \"test_contig_245285\\tProdigal_v2.6.3 CDS\\t10539\\t10731\\t.\\t-\\t0\\tgene_functions=['biosynthetic-additional (rule-based-clusters) LD_lanti_pre', 'biosynthetic-additional (lanthipeptides) predicted lanthipeptide'];gene_kind=biosynthetic-additional;inference=ab initio prediction:Prodigal_v2.6.3;locus_tag=EMEGMFMJ_342198;phase=0;product=unannotated protein;sec_met_domain=LD_lanti_pre (E-value: 8.5e-19, bitscore: 57.0, seeds: 21, tool: rule-based-clusters);source=Prodigal_v2.6.3;transl_table=11;\", \"test_contig_245285\\tantismash CDS_motif\\t10608\\t10731\\t.\\t-\\tprepeptide=leader;note=['peptide class: lanthipeptide', 'predicted sequence: MTVQMERPVTPPQPGDALAPTDAAGDWDLDITIVEGGPAAD'];locus_tag=EMEGMFMJ_342198_lanthipeptide;aSTool=lanthipeptides;tool=antismash;\", \"test_contig_245285\\tantismash CDS_motif\\t10539\\t10608\\t.\\t-\\tprepeptide=core;locus_tag=EMEGMFMJ_342198_lanthipeptide;peptide=lanthipeptide;predicted_class=Class I;score=-7.50;molecular_weight=2135.4;monoisotopic_mass=2134.0;core_sequence=QLIRLTSDGCNSTCATACVSCP;aSTool=lanthipeptides;tool=antismash;leader_sequence=MTVQMERPVTPPQPGDALAPTDAAGDWDLDITIVEGGPAAD ;leader_location=[10608:10731](-);alternative_weights=['2153.5', '2171.5'];\", 'test_contig_245285\\tProdigal_v2.6.3 CDS\\t10794\\t12000\\t.\\t-\\t0\\tgene_functions=biosynthetic-additional (rule-based-clusters) PCMT;gene_kind=biosynthetic-additional;inference=ab initio prediction:Prodigal_v2.6.3;locus_tag=EMEGMFMJ_342199;phase=0;product=unannotated protein;sec_met_domain=PCMT (E-value: 3.3e-39, bitscore: 124.5, seeds: 9, tool: rule-based-clusters);source=Prodigal_v2.6.3;transl_table=11;', 'test_contig_245285\\tantismash PFAM_domain\\t11331\\t11949\\t.\\t-\\taSDomain=PCMT;aSTool=clusterhmmer;database=34.0;db_xref=PF01135.21;description=Protein-L-isoaspartate(D-aspartate) O-methyltransferase (PCMT);detection=hmmscan;evalue=5.20E-36;label=EMEGMFMJ_342199;locus_tag=EMEGMFMJ_342199;protein_end=223;protein_start=17;score=124.5;tool=antismash;', 'test_contig_245285\\tProdigal_v2.6.3 CDS\\t12117\\t12219\\t.\\t-\\t0\\tinference=ab initio prediction:Prodigal_v2.6.3;locus_tag=EMEGMFMJ_342200;phase=0;product=unannotated protein;source=Prodigal_v2.6.3;transl_table=11;', 'test_contig_245285\\tProdigal_v2.6.3 CDS\\t12262\\t12862\\t.\\t-\\t0\\tinference=ab initio prediction:Prodigal_v2.6.3;locus_tag=EMEGMFMJ_342201;phase=0;product=unannotated protein;source=Prodigal_v2.6.3;transl_table=11;', 'test_contig_245285\\tProdigal_v2.6.3 CDS\\t12889\\t13114\\t.\\t-\\t0\\tinference=ab initio prediction:Prodigal_v2.6.3;locus_tag=EMEGMFMJ_342202;phase=0;product=unannotated protein;source=Prodigal_v2.6.3;transl_table=11;']\n"
     ]
    }
   ],
   "source": [
    "lines = []\n",
    "line = ''\n",
    "for i in range(len(genome_record.features)):\n",
    "    #check if the type of region/feature is a coding sequence/annotated region with the 'phase' qualifier/key, to also include along the line\n",
    "    if genome_record.features[i].qualifiers.__contains__('phase'):\n",
    "        #check if annotation is from a 'tool' a 'aStool' or a 'source' to include in the second column \n",
    "        if genome_record.features[i].qualifiers.__contains__('tool'):\n",
    "            string = str(genome_record.description) + '\\t' + str(genome_record.features[i].qualifiers['tool'][0]) + ' ' + str(genome_record.features[i].type) + '\\t' + str(genome_record.features[i].location.start) + '\\t' + str(genome_record.features[i].location.end) + '\\t' + '.' + '\\t' + str(genome_record.features[i].location)[-2] + '\\t' + str(genome_record.features[i].qualifiers['phase'][0]) + '\\t'\n",
    "        else:\n",
    "            if genome_record.features[i].qualifiers.__contains__('aStool'):\n",
    "                string = str(genome_record.description) + '\\t' + str(genome_record.features[i].qualifiers['aStool'][0]) + ' ' + str(genome_record.features[i].type) + '\\t' + str(genome_record.features[i].location.start) + '\\t' + str(genome_record.features[i].location.end) + '\\t' + '.' + '\\t' + str(genome_record.features[i].location)[-2] + '\\t' + str(genome_record.features[i].qualifiers['phase'][0]) + '\\t'\n",
    "            else:\n",
    "                string = str(genome_record.description) + '\\t' + str(genome_record.features[i].qualifiers['source'][0]) + ' ' + str(genome_record.features[i].type) + '\\t' + str(genome_record.features[i].location.start) + '\\t' + str(genome_record.features[i].location.end) + '\\t' + '.' + '\\t' + str(genome_record.features[i].location)[-2] + '\\t' + str(genome_record.features[i].qualifiers['phase'][0]) + '\\t'\n",
    "    else:\n",
    "        if genome_record.features[i].qualifiers.__contains__('tool'):\n",
    "            string = str(genome_record.description) + '\\t' + str(genome_record.features[i].qualifiers['tool'][0]) + ' ' + str(genome_record.features[i].type) + '\\t' + str(genome_record.features[i].location.start) + '\\t' + str(genome_record.features[i].location.end) + '\\t' + '.' + '\\t' + str(genome_record.features[i].location)[-2] + '\\t' \n",
    "        else:\n",
    "            if genome_record.features[i].qualifiers.__contains__('aStool'):\n",
    "                string = str(genome_record.description) + '\\t' + str(genome_record.features[i].qualifiers['aStool'][0]) + ' ' + str(genome_record.features[i].type) + '\\t' + str(genome_record.features[i].location.start) + '\\t' + str(genome_record.features[i].location.end) + '\\t' + '.' + '\\t' + str(genome_record.features[i].location)[-2] + '\\t'\n",
    "            else:\n",
    "                string = str(genome_record.description) + '\\t' + str(genome_record.features[i].qualifiers['source'][0]) + ' ' + str(genome_record.features[i].type) + '\\t' + str(genome_record.features[i].location.start) + '\\t' + str(genome_record.features[i].location.end) + '\\t' + '.' + '\\t' + str(genome_record.features[i].location)[-2] + '\\t'\n",
    "    \n",
    "    attributess = ''\n",
    "    for key in genome_record.features[i].qualifiers:\n",
    "    #print(i, qualif_dict[i])\n",
    "        if key ==  'ID' or key == 'gene' or key == 'translation' or key == 'partial' or key == 'domain_id':\n",
    "            pass\n",
    "        else:\n",
    "            if len(genome_record.features[i].qualifiers[key]) > 1:\n",
    "                temp = str(key) + '=' + str(genome_record.features[i].qualifiers[key]) + ';' \n",
    "                attributess = attributess + str(temp)\n",
    "            else:\n",
    "            #print(len(genome_record.features[i].qualifiers[key]))\n",
    "                temp = str(key) + '=' + str(genome_record.features[i].qualifiers[key][0]) + ';' \n",
    "                attributess = attributess + str(temp)\n",
    "    #attributess \n",
    "    line = line + string + attributess\n",
    "    lines.append(str(line))\n",
    "    line = ''\n",
    "    #print(line)\n",
    "#print(line)\n",
    "#lines.append(str(line))\n",
    "#line = ''\n",
    "print(lines)"
   ]
  },
  {
   "cell_type": "code",
   "execution_count": 5,
   "metadata": {},
   "outputs": [
    {
     "name": "stdout",
     "output_type": "stream",
     "text": [
      "test_contig_245285\tantismash protocluster\t0\t13115\t.\t+\taStool=rule-based-clusters;category=RiPP;contig_edge=True;core_location=[5459:10452];cutoff=20000;detection_rule=((LANC_like and (Lant_dehydr_N or Lant_dehydr_C)) and not (YcaO or TIGR03882));neighbourhood=10000;product=lanthipeptide-class-i;protocluster_number=1;tool=antismash;\n"
     ]
    }
   ],
   "source": [
    "print(lines[0])"
   ]
  },
  {
   "cell_type": "code",
   "execution_count": 6,
   "metadata": {},
   "outputs": [
    {
     "name": "stdout",
     "output_type": "stream",
     "text": [
      "['rule-based-clusters']\n",
      "['RiPP']\n",
      "['True']\n",
      "['[5459:10452]']\n",
      "['20000']\n",
      "['((LANC_like and (Lant_dehydr_N or Lant_dehydr_C)) and not (YcaO or TIGR03882))']\n",
      "['10000']\n",
      "['lanthipeptide-class-i']\n",
      "['1']\n",
      "['antismash']\n",
      "['rule-based-clusters']\n",
      "['antismash']\n",
      "['20000']\n",
      "['((LANC_like and (Lant_dehydr_N or Lant_dehydr_C)) and not (YcaO or TIGR03882))']\n",
      "['10000']\n",
      "['lanthipeptide-class-i']\n",
      "['1']\n",
      "['1']\n",
      "['True']\n",
      "['((LANC_like and (Lant_dehydr_N or Lant_dehydr_C)) and not (YcaO or TIGR03882))']\n",
      "['single']\n",
      "['lanthipeptide-class-i']\n",
      "['1']\n",
      "['antismash']\n",
      "['1']\n",
      "['True']\n",
      "['lanthipeptide-class-i']\n",
      "['1']\n",
      "['((LANC_like and (Lant_dehydr_N or Lant_dehydr_C)) and not (YcaO or TIGR03882))']\n",
      "['antismash']\n",
      "['EMEGMFMJ_342191']\n",
      "['EMEGMFMJ_342191']\n",
      "['ab initio prediction:Prodigal_v2.6.3']\n",
      "['EMEGMFMJ_342191']\n",
      "['00']\n",
      "['0']\n",
      "['unannotated protein']\n",
      "['Prodigal_v2.6.3']\n",
      "['11']\n",
      "['MEPLPGIRIRRLRLVGMERSYDVDFTAEQRVRNLSVIAGAFSSGKTAVLEFIAYGLGAKRHPRHQEVLRRVRSCLMEVELSGEPHVIERSVGEPSKVAFVRRGTLQSRPTSRAESRTIDPPGAPESLSSLLLSHCKLEGVQLREAPTNSESRTDPLSFRDLMWLAFLPNERVADKNFLFENDYMRKHKLRQVVDVAFGVHDDRAVELGQRIQELAGRLSRAKAELAAARTFVLEQDPTALDGEPTPAVHEQELADITSRLTELDRRAQAGTEFAAQLRRQHKEAAQTSHRAAALLRDCETQLQRLMPLRAQYADDLLKLGMLGEAQQIFDPLSVTTCPACLNRLSAPPTANNGLCSLCRHELTAADGRLVLGTVDTGSQADENRVDVAAETRSTKARLKEITTYIDELGASLAALKLRAEEAAVQEEEAAAALDAATSPSVSPFLAARDDLHRRREQVLHQLEQAGSTVKLREGLTKRADAVERHEAQIARLREELARLGDASHDRDRVIANISSRYGELLRAWRYPKVSAPFIKTDLTPFVRGEPYQEASSGARTLLTLAWQLAVFEIAVEAGAAHPGFLMIDSPQKNLGHGGTLDAVIADAVAIDDFYHHLTLWLAERGSRAQLIVADNSPPPLVENSVVVRYSRNEDRPPYGLIEDETSADDEADAEM']\n",
      "['EMEGMFMJ_342192']\n",
      "['EMEGMFMJ_342192']\n",
      "['ab initio prediction:Prodigal_v2.6.3']\n",
      "['EMEGMFMJ_342192']\n",
      "['00']\n",
      "['0']\n",
      "['unannotated protein']\n",
      "['Prodigal_v2.6.3']\n",
      "['11']\n",
      "['VRTDRPVMMPEDEVPFRLAQLLLLLDAVAAQDANGATLERIGYYDFLSANPFLVVPSEGRDASLLRLAGFDPQVLAYASSSQRFTSRRERIQHDLALLVAYGCCRVRNRNGSLTYLITEAGQHLGREFTATYATSFATAADIVVRQLRKLSDKRLREQTALWLKPDGPVAALMSVLGPGPLLETSWEG']\n",
      "['EMEGMFMJ_342193']\n",
      "['EMEGMFMJ_342193']\n",
      "['ab initio prediction:Prodigal_v2.6.3']\n",
      "['EMEGMFMJ_342193']\n",
      "['00']\n",
      "['0']\n",
      "['unannotated protein']\n",
      "['Prodigal_v2.6.3']\n",
      "['11']\n",
      "['LDNSKPVAAGVPPIHFVVHELRTGSADGARADFEQMLAQLASATNPNVRMIAANPGDWGIDAFAGDLGGAITVWQSKYFMPKTTTSQSQQIRESLANGLKAAAANGHTITLWILCIPSSMDGPAAQWWDGWKRRQEKAHGLVIELWDETKIKKKLLSPEGDQVRRAYYEPFTAPAPAQEQIRLVLDVEEDKAAALDSALFVRQMTEAGHVELDSAKRQFFNADLVAREVAHKGVPGEVAALSSADATLHGVWEMQFNECSAEGTLNALYGRVWREVRGEHDKLPKVLRLEVTHSWGLVHRLVDNRRAGWVAHWRQIASGHPDD']\n",
      "['EMEGMFMJ_342194']\n",
      "['EMEGMFMJ_342194']\n",
      "['ab initio prediction:Prodigal_v2.6.3']\n",
      "['EMEGMFMJ_342194']\n",
      "['00']\n",
      "['0']\n",
      "['unannotated protein']\n",
      "['Prodigal_v2.6.3']\n",
      "['11']\n",
      "['VWKLPDTSAQRFPLVARPRPACLPLPERVQALADLADTAAKQNDPGVASTVYNQAALIASDVGLPDIARSICTKHAELYLRAAPLSHETAVRALEPVVNLARLHLRAGRQDTARQYLSMLFDAVTHAQPAQIESLTIPADLVATDDDRKEVRTWLWTVLLADGTRSLTSAGRWNDALNHIQQHHGLAQRMLDGRQVAVLAALASGDNAHAQEVLAHTKPGEPWEAAVTECLTVMSLRGAEEEWRRPLRQLVTVYLDLPDVEGLTVFTTRYGLAVLDLIGTTDDNAARLVVADLHRRAVAANDGYAARDALSHPVSRSLASDQEFKESQRLVNACTLRSGPFQLASWGRIDGVLHVSRRVIQESFNEGAL']\n",
      "['EMEGMFMJ_342195']\n",
      "['EMEGMFMJ_342195']\n",
      "['biosynthetic (rule-based-clusters) lanthipeptide-class-i: Lant_dehydr_C']\n",
      "['biosynthetic']\n",
      "['ab initio prediction:Prodigal_v2.6.3']\n",
      "['EMEGMFMJ_342195']\n",
      "['00']\n",
      "['0']\n",
      "['unannotated protein']\n",
      "['Lant_dehydr_C (E-value: 4.5e-38, bitscore: 121.1, seeds: 35, tool: rule-based-clusters)']\n",
      "['Prodigal_v2.6.3']\n",
      "['11']\n",
      "['MPPPTWRQVNVAFSDWERAEATAMTELVPLVEAAEDAGAITRWFFVRKHPCWRIRYASVAGTQDAIDDRLDALVAAGSTAGWTESVYEPEVHAFGGTQAMDSAHRLFHQDSHNLLHFLRGDTARHRRETSLMLCSLMLRAASLDWYEQGDVWARVAAHRPPSPDAEPDNKDRLHTAVRRLITVDPQYATQPGSPLAGAEAWTAAYTAAGSDLARLNQTGQLHRGIRDVLAHHVIFAWNRLGLPYSTQAALTTAAQTVIFGPDPSTERSTAHRVETP']\n",
      "['Lant_dehydr_C']\n",
      "['clusterhmmer']\n",
      "['34.0']\n",
      "['PF14028.8']\n",
      "['Lantibiotic biosynthesis dehydratase C-term']\n",
      "['hmmscan']\n",
      "['clusterhmmer_EMEGMFMJ_342195_0001']\n",
      "['6.70E-39']\n",
      "['EMEGMFMJ_342195']\n",
      "['EMEGMFMJ_342195']\n",
      "['256']\n",
      "['5']\n",
      "['134.4']\n",
      "['antismash']\n",
      "['WRQVNVAFSDWERAEATAMTELVPLVEAAEDAGAITRWFFVRKHPCWRIRYASVAGTQDAIDDRLDALVAAGSTAGWTESVYEPEVHAFGGTQAMDSAHRLFHQDSHNLLHFLRGDTARHRRETSLMLCSLMLRAASLDWYEQGDVWARVAAHRPPSPDAEPDNKDRLHTAVRRLITVDPQYATQPGSPLAGAEAWTAAYTAAGSDLARLNQTGQLHRGIRDVLAHHVIFAWNRLGLPYSTQAALTTAAQT']\n",
      "['EMEGMFMJ_342196']\n",
      "['EMEGMFMJ_342196']\n",
      "['biosynthetic (rule-based-clusters) lanthipeptide-class-i: LANC_like', 'biosynthetic-additional (smcogs) SMCOG1140:Lanthionine synthetase C family protein (Score: 365.1; E-value: 7.1e-111)']\n",
      "['biosynthetic']\n",
      "['ab initio prediction:Prodigal_v2.6.3']\n",
      "['EMEGMFMJ_342196']\n",
      "['smCOG tree PNG image: smcogs/EMEGMFMJ_342196.png']\n",
      "['00']\n",
      "['0']\n",
      "['unannotated protein']\n",
      "['LANC_like (E-value: 4.4e-44, bitscore: 140.3, seeds: 47, tool: rule-based-clusters)']\n",
      "['Prodigal_v2.6.3']\n",
      "['11']\n",
      "['VTTALTSAVLSTTDKIAKALRDPSSAWPNGRPAGGRAWPQSLAGGACGIALLHIERARTGHGDWDTAHTWLAEAVGGEISAADNANLYFGASALAYITHRAASSSSRYLPLLNHLDTATLTVTRIRIAAAHQRIDRAEPVPMEEFDLIQGLSGLGAYHLSRHPHHEITRDTLTYLVRLTEPLSVPTGLPPWWMDVAPTGAPHPDYPDGHGNFGLAHGIGAALAVLSQALLHEVTVPGMTDAVARICAWTDRWRQGDDNHPWWPGHITARQAADRHVHADLRPRPSWCYGASGTARAQQLAGLALGDPARVQLAENAILDALRDPDQLSKLREIGLCHGMAGLLHAGWRMATETGNPEITAELPHLAERLIAALDQDTQDPELLDGSAGAALALHTYATAVAPAPHWDTFLSLA']\n",
      "['LANC_like']\n",
      "['clusterhmmer']\n",
      "['34.0']\n",
      "['PF05147.15']\n",
      "['Lanthionine synthetase C-like protein']\n",
      "['hmmscan']\n",
      "['clusterhmmer_EMEGMFMJ_342196_0002']\n",
      "['1.20E-42']\n",
      "['EMEGMFMJ_342196']\n",
      "['EMEGMFMJ_342196']\n",
      "['406']\n",
      "['37']\n",
      "['145.9']\n",
      "['antismash']\n",
      "['WPQSLAGGACGIALLHIERARTGHGDWDTAHTWLAEAVGGEISAADNANLYFGASALAYITHRAASSSSRYLPLLNHLDTATLTVTRIRIAAAHQRIDRAEPVPMEEFDLIQGLSGLGAYHLSRHPHHEITRDTLTYLVRLTEPLSVPTGLPPWWMDVAPTGAPHPDYPDGHGNFGLAHGIGAALAVLSQALLHEVTVPGMTDAVARICAWTDRWRQGDDNHPWWPGHITARQAADRHVHADLRPRPSWCYGASGTARAQQLAGLALGDPARVQLAENAILDALRDPDQLSKLREIGLCHGMAGLLHAGWRMATETGNPEITAELPHLAERLIAALDQDTQDPELLDGSAGAALALHTYATAVAPAPHW']\n",
      "['EMEGMFMJ_342197']\n",
      "['EMEGMFMJ_342197']\n",
      "['biosynthetic (rule-based-clusters) lanthipeptide-class-i: Lant_dehydr_C', 'biosynthetic (rule-based-clusters) lanthipeptide-class-i: Lant_dehydr_N', 'biosynthetic-additional (rule-based-clusters) Lanthipeptide_LanB_RRE', 'biosynthetic-additional (smcogs) SMCOG1155:Lantibiotic dehydratase domain protein (Score: 856.3; E-value: 4.7e-259)']\n",
      "['biosynthetic']\n",
      "['ab initio prediction:Prodigal_v2.6.3']\n",
      "['EMEGMFMJ_342197']\n",
      "['smCOG tree PNG image: smcogs/EMEGMFMJ_342197.png']\n",
      "['00']\n",
      "['0']\n",
      "['unannotated protein']\n",
      "['Lant_dehydr_N (E-value: 4e-113, bitscore: 368.3, seeds: 73, tool: rule-based-clusters)', 'Lant_dehydr_C (E-value: 3.2e-29, bitscore: 92.1, seeds: 35, tool: rule-based-clusters)', 'Lanthipeptide_LanB_RRE (E-value: 4.8e-21, bitscore: 65.1, seeds: 20, tool: rule-based-clusters)']\n",
      "['Prodigal_v2.6.3']\n",
      "['11']\n",
      "['MYRYVDAALIRAAAGQPDTQVTWPDLVSTTAGAVSWCAWLQEVWRIGDFADAVSAASPDLASRVEQICTGHHLPEPTVRRIVLAVLRYLLRARTRATPFGLFAGVAAASIGAAPALRLGSEHRPTARADAARSTSLIDRFEQHPALRPHLMLLTSTLAVERDDQVVIDHRPGGKPGAGLEHVHIRMTEPVRAALDGAQSPIPWCDLASKLAAGFPDTSPNLIDKLLASLVTQQFLLTSLRPAMATHDPLTGLHDHEHRLSNQERAEVRATPRHAQDLLLDCDLTIPDTVAREATAAAKALTRLAPRAALTGWAEWHDRFLDRYGPRAVVPVLDAIDALGYPPGYLGATAAPTLSPLPDRDARLIKLAHTAAVQGRLEVVLDDAALESLATTGAEHPVQPSTELTVRIDAADSAALEQGEFSLHVVGVARSAGATTGRFLDMLPDEHRRRMTEVYAALPGVHDDALVAQISAVPLSVRAANVARAPQVTDLVISLGEYRGPGSRLLPVTDLAVIADAGQLHLVSLSRRRPVHALLLNAVDLGLHSHPLTRFLAEAPVALAVPCAGFLWGTAASNLPFLPALRYGRTILSPARWLLARGDLPAASTPWLQWDEALSRWCRDVRLPERVYLSEADQCLALDLTEPSHRALLRTHLDRDGTVTLRPAPEPQDLGWIGGRAHEVVIPLISDQNHTSVRTAPHVVTREHGRLPGSGELLYVQLHGDPARQDHILTRHLPVLLAELKPPRCWFVRYSEPGHHLRLRLSCTPGALGATFEYVGAWTEELRRHGLITHVSVETYHPEIARYGGPTAIDAAEAYFAADSTAVLAQLVAGLAKNAPDARAVTVASMVDIATGLLGDRARAMGWLIAHTRTDSAAPPRPVHRQAVELVHTHPVGLAEQTAGAWSARRMALADYAEALLAAGADPGDLLPDLLHLHHVRMHGPGLPEERTHLHLARAAALSWTARSRRTA']\n",
      "['Lant_dehydr_C']\n",
      "['clusterhmmer']\n",
      "['34.0']\n",
      "['PF14028.8']\n",
      "['Lantibiotic biosynthesis dehydratase C-term']\n",
      "['hmmscan']\n",
      "['clusterhmmer_EMEGMFMJ_342197_0005']\n",
      "['8.80E-28']\n",
      "['EMEGMFMJ_342197']\n",
      "['EMEGMFMJ_342197']\n",
      "['956']\n",
      "['712']\n",
      "['98.0']\n",
      "['antismash']\n",
      "['LYVQLHGDPARQDHILTRHLPVLLAELKPPRCWFVRYSEPGHHLRLRLSCTPGALGATFEYVGAWTEELRRHGLITHVSVETYHPEIARYGGPTAIDAAEAYFAADSTAVLAQLVAGLAKNAPDARAVTVASMVDIATGLLGDRARAMGWLIAHTRTDSAAPPRPVHRQAVELVHTHPVGLAEQTAGAWSARRMALADYAEALLAAGADPGDLLPDLLHLHHVRMHGPGLPEERTHLHLARAAA']\n",
      "['Lant_dehydr_N']\n",
      "['clusterhmmer']\n",
      "['34.0']\n",
      "['PF04738.15']\n",
      "['Lantibiotic dehydratase, N terminus']\n",
      "['hmmscan']\n",
      "['clusterhmmer_EMEGMFMJ_342197_0004']\n",
      "['1.80E-112']\n",
      "['EMEGMFMJ_342197']\n",
      "['EMEGMFMJ_342197']\n",
      "['648']\n",
      "['270']\n",
      "['376.6']\n",
      "['antismash']\n",
      "['PRHAQDLLLDCDLTIPDTVAREATAAAKALTRLAPRAALTGWAEWHDRFLDRYGPRAVVPVLDAIDALGYPPGYLGATAAPTLSPLPDRDARLIKLAHTAAVQGRLEVVLDDAALESLATTGAEHPVQPSTELTVRIDAADSAALEQGEFSLHVVGVARSAGATTGRFLDMLPDEHRRRMTEVYAALPGVHDDALVAQISAVPLSVRAANVARAPQVTDLVISLGEYRGPGSRLLPVTDLAVIADAGQLHLVSLSRRRPVHALLLNAVDLGLHSHPLTRFLAEAPVALAVPCAGFLWGTAASNLPFLPALRYGRTILSPARWLLARGDLPAASTPWLQWDEALSRWCRDVRLPERVYLSEADQCLALDLTEPSHRALL']\n",
      "['Lant_dehydr_N']\n",
      "['clusterhmmer']\n",
      "['34.0']\n",
      "['PF04738.15']\n",
      "['Lantibiotic dehydratase, N terminus']\n",
      "['hmmscan']\n",
      "['clusterhmmer_EMEGMFMJ_342197_0003']\n",
      "['9.90E-56']\n",
      "['EMEGMFMJ_342197']\n",
      "['EMEGMFMJ_342197']\n",
      "['254']\n",
      "['48']\n",
      "['189.1']\n",
      "['antismash']\n",
      "['FADAVSAASPDLASRVEQICTGHHLPEPTVRRIVLAVLRYLLRARTRATPFGLFAGVAAASIGAAPALRLGSEHRPTARADAARSTSLIDRFEQHPALRPHLMLLTSTLAVERDDQVVIDHRPGGKPGAGLEHVHIRMTEPVRAALDGAQSPIPWCDLASKLAAGFPDTSPNLIDKLLASLVTQQFLLTSLRPAMATHDPLTGLHD']\n",
      "['tta leucine codon, possible target for bldA regulation']\n",
      "['antismash']\n",
      "['EMEGMFMJ_342198']\n",
      "['EMEGMFMJ_342198']\n",
      "['biosynthetic-additional (rule-based-clusters) LD_lanti_pre', 'biosynthetic-additional (lanthipeptides) predicted lanthipeptide']\n",
      "['biosynthetic-additional']\n",
      "['ab initio prediction:Prodigal_v2.6.3']\n",
      "['EMEGMFMJ_342198']\n",
      "['00']\n",
      "['0']\n",
      "['unannotated protein']\n",
      "['LD_lanti_pre (E-value: 8.5e-19, bitscore: 57.0, seeds: 21, tool: rule-based-clusters)']\n",
      "['Prodigal_v2.6.3']\n",
      "['11']\n",
      "['MTVQMERPVTPPQPGDALAPTDAAGDWDLDITIVEGGPAADQLIRLTSDGCNSTCATACVSCP']\n",
      "['leader']\n",
      "['peptide class: lanthipeptide', 'predicted sequence: MTVQMERPVTPPQPGDALAPTDAAGDWDLDITIVEGGPAAD']\n",
      "['EMEGMFMJ_342198_lanthipeptide']\n",
      "['lanthipeptides']\n",
      "['antismash']\n",
      "['core']\n",
      "['EMEGMFMJ_342198_lanthipeptide']\n",
      "['lanthipeptide']\n",
      "['Class I']\n",
      "['-7.50']\n",
      "['2135.4']\n",
      "['2134.0']\n",
      "['QLIRLTSDGCNSTCATACVSCP']\n",
      "['lanthipeptides']\n",
      "['antismash']\n",
      "['MTVQMERPVTPPQPGDALAPTDAAGDWDLDITIVEGGPAAD ']\n",
      "['[10608:10731](-)']\n",
      "['2153.5', '2171.5']\n",
      "['EMEGMFMJ_342199']\n",
      "['EMEGMFMJ_342199']\n",
      "['biosynthetic-additional (rule-based-clusters) PCMT']\n",
      "['biosynthetic-additional']\n",
      "['ab initio prediction:Prodigal_v2.6.3']\n",
      "['EMEGMFMJ_342199']\n",
      "['00']\n",
      "['0']\n",
      "['unannotated protein']\n",
      "['PCMT (E-value: 3.3e-39, bitscore: 124.5, seeds: 9, tool: rule-based-clusters)']\n",
      "['Prodigal_v2.6.3']\n",
      "['11']\n",
      "['MIAIDGSTDRDPDVLRADMVRALRDEDGITTGPVAAAFATVPRHLFAPDAPPEVAYSLHRTVPVKKDEHGMDISVMSAAHLQAVMLEQAEVEPGMNVLEIGSGGVNAAYLQELVGSEGRVTTVDIDGDVIDRARRCLDDAGYSRVRTVLDDGEHGVADGAPFDRIIVTAAAWDIPPSWIGGLAEKGRLVVPLTVCGTTRSIAFDRDGSGLVSRSYGLAHFVPMRGEGAADERKVMLREGVALQTDDLRVPLEPQALDAALDMPRLERWSGAAYDLPDELDLFITLNLPSPARLHAAQDVVGSGLVEASALKGVSALVSRDSFAYRTRRENAATGGFESGVVAHGPQAEALADQYADLLRHWAQNHRRRGAATFRYLPGPAPKTLPEGAVLRRHGIVTAVWT']\n",
      "['PCMT']\n",
      "['clusterhmmer']\n",
      "['34.0']\n",
      "['PF01135.21']\n",
      "['Protein-L-isoaspartate(D-aspartate) O-methyltransferase (PCMT)']\n",
      "['hmmscan']\n",
      "['clusterhmmer_EMEGMFMJ_342199_0006']\n",
      "['5.20E-36']\n",
      "['EMEGMFMJ_342199']\n",
      "['EMEGMFMJ_342199']\n",
      "['223']\n",
      "['17']\n",
      "['124.5']\n",
      "['antismash']\n",
      "['DMVRALRDEDGITTGPVAAAFATVPRHLFAPDAPPEVAYSLHRTVPVKKDEHGMDISVMSAAHLQAVMLEQAEVEPGMNVLEIGSGGVNAAYLQELVGSEGRVTTVDIDGDVIDRARRCLDDAGYSRVRTVLDDGEHGVADGAPFDRIIVTAAAWDIPPSWIGGLAEKGRLVVPLTVCGTTRSIAFDRDGSGLVSRSYGLAHFVPM']\n",
      "['EMEGMFMJ_342200']\n",
      "['EMEGMFMJ_342200']\n",
      "['ab initio prediction:Prodigal_v2.6.3']\n",
      "['EMEGMFMJ_342200']\n",
      "['00']\n",
      "['0']\n",
      "['unannotated protein']\n",
      "['Prodigal_v2.6.3']\n",
      "['11']\n",
      "['MTNTTVEPDEATRLRNDVVDTLRAEGWISSSRS']\n",
      "['EMEGMFMJ_342201']\n",
      "['EMEGMFMJ_342201']\n",
      "['ab initio prediction:Prodigal_v2.6.3']\n",
      "['EMEGMFMJ_342201']\n",
      "['00']\n",
      "['0']\n",
      "['unannotated protein']\n",
      "['Prodigal_v2.6.3']\n",
      "['11']\n",
      "['LTTTSLALKPDTVAPPAQQPLPEGAASLGRTWHISTAGGITVTGYLPPWADEDPSESDVPLEELPVKLVDLAHWRPFDGQMMRIHNPAHADGADLVAEASLFDGHVTCHPYSDDPQERTPYADVRVVDDLWLYHLTPEDLTRLTAQLRAQADHIENDVTPLLEAARIDWTARQSGRTDVVVDVPVGASIASAPIGAVRC']\n",
      "['EMEGMFMJ_342202']\n",
      "['EMEGMFMJ_342202']\n",
      "['ab initio prediction:Prodigal_v2.6.3']\n",
      "['EMEGMFMJ_342202']\n",
      "['01']\n",
      "['0']\n",
      "['unannotated protein']\n",
      "['Prodigal_v2.6.3']\n",
      "['11']\n",
      "['QAHGGGDHFALVLDLDGVATGAIWTRWADGTPAALDLRPDCPFVDPESREGCCEFAFHPGAHSHCLTATPTEFS']\n",
      "[SeqFeature(FeatureLocation(ExactPosition(0), ExactPosition(13115), strand=1), type='protocluster'), SeqFeature(FeatureLocation(ExactPosition(5459), ExactPosition(10452), strand=1), type='proto_core'), SeqFeature(FeatureLocation(ExactPosition(0), ExactPosition(13115), strand=1), type='cand_cluster'), SeqFeature(FeatureLocation(ExactPosition(0), ExactPosition(13115), strand=1), type='region'), SeqFeature(FeatureLocation(ExactPosition(214), ExactPosition(2230), strand=-1), type='CDS')]\n"
     ]
    }
   ],
   "source": [
    "\n",
    "for i in range(len(genome_record.features)):\n",
    "    for key in genome_record.features[i].qualifiers:\n",
    "        print(genome_record.features[i].qualifiers[key])\n",
    "    #if genome_record.features[i].type == 'CDS':\n",
    "    #    print(genome_record.features[i])\n",
    "print(genome_record.features[0:5])"
   ]
  },
  {
   "cell_type": "code",
   "execution_count": 7,
   "metadata": {},
   "outputs": [
    {
     "name": "stdout",
     "output_type": "stream",
     "text": [
      "antismash protocluster\t0\t13115\n"
     ]
    }
   ],
   "source": [
    "print(str(genome_record.features[0].qualifiers['tool'][0]) + ' ' + str(genome_record.features[0].type) + '\\t' + str(genome_record.features[0].location.start) + '\\t' + str(genome_record.features[0].location.end))"
   ]
  },
  {
   "cell_type": "code",
   "execution_count": 8,
   "metadata": {},
   "outputs": [
    {
     "name": "stdout",
     "output_type": "stream",
     "text": [
      "+\n"
     ]
    }
   ],
   "source": [
    "#print(genome_record.features[0].qualifiers.__contains__('aStool'))\n",
    "print(str(genome_record.features[0].location)[-2])"
   ]
  },
  {
   "cell_type": "code",
   "execution_count": 9,
   "metadata": {},
   "outputs": [
    {
     "name": "stdout",
     "output_type": "stream",
     "text": [
      "['__add__', '__class__', '__contains__', '__delattr__', '__dict__', '__dir__', '__doc__', '__eq__', '__format__', '__ge__', '__getattribute__', '__gt__', '__hash__', '__init__', '__init_subclass__', '__iter__', '__le__', '__len__', '__lt__', '__module__', '__ne__', '__new__', '__nonzero__', '__radd__', '__reduce__', '__reduce_ex__', '__repr__', '__setattr__', '__sizeof__', '__str__', '__subclasshook__', '__weakref__', '_end', '_flip', '_get_strand', '_set_strand', '_shift', '_start', '_strand', 'end', 'extract', 'nofuzzy_end', 'nofuzzy_start', 'parts', 'ref', 'ref_db', 'start', 'strand']\n"
     ]
    }
   ],
   "source": [
    "print(dir(genome_record.features[0].location))"
   ]
  },
  {
   "cell_type": "code",
   "execution_count": 10,
   "metadata": {},
   "outputs": [
    {
     "name": "stdout",
     "output_type": "stream",
     "text": [
      "gene_functions=biosynthetic (rule-based-clusters) lanthipeptide-class-i: Lant_dehydr_C;gene_kind=biosynthetic;inference=ab initio prediction:Prodigal_v2.6.3;locus_tag=EMEGMFMJ_342197;note=smCOG tree PNG image: smcogs/EMEGMFMJ_342197.png;phase=0;product=unannotated protein;sec_met_domain=Lant_dehydr_N (E-value: 4e-113, bitscore: 368.3, seeds: 73, tool: rule-based-clusters);source=Prodigal_v2.6.3;transl_table=11;\n"
     ]
    }
   ],
   "source": [
    "attributess = ''\n",
    "#qualif_dict = genome_record.features[12].qualifiers\n",
    "for i in genome_record.features[12].qualifiers:\n",
    "#for i in qualif_dict:\n",
    "    #print(i, qualif_dict[i])\n",
    "    \n",
    "    if i ==  'ID' or i == 'gene' or i == 'translation' or i == 'partial' or i == 'domain_id':\n",
    "        pass\n",
    "    else:\n",
    "        temp = str(i) + '=' + str(genome_record.features[12].qualifiers[i][0]) + ';'\n",
    "        #temp = str(i) + '=' + str(qualif_dict[i][0]) + ';' \n",
    "        attributess = attributess + str(temp)\n",
    "print(attributess)"
   ]
  },
  {
   "cell_type": "code",
   "execution_count": 11,
   "metadata": {},
   "outputs": [
    {
     "name": "stdout",
     "output_type": "stream",
     "text": [
      "type: CDS\n",
      "location: [6310:7552](-)\n",
      "qualifiers:\n",
      "    Key: ID, Value: ['EMEGMFMJ_342196']\n",
      "    Key: gene, Value: ['EMEGMFMJ_342196']\n",
      "    Key: gene_functions, Value: ['biosynthetic (rule-based-clusters) lanthipeptide-class-i: LANC_like', 'biosynthetic-additional (smcogs) SMCOG1140:Lanthionine synthetase C family protein (Score: 365.1; E-value: 7.1e-111)']\n",
      "    Key: gene_kind, Value: ['biosynthetic']\n",
      "    Key: inference, Value: ['ab initio prediction:Prodigal_v2.6.3']\n",
      "    Key: locus_tag, Value: ['EMEGMFMJ_342196']\n",
      "    Key: note, Value: ['smCOG tree PNG image: smcogs/EMEGMFMJ_342196.png']\n",
      "    Key: partial, Value: ['00']\n",
      "    Key: phase, Value: ['0']\n",
      "    Key: product, Value: ['unannotated protein']\n",
      "    Key: sec_met_domain, Value: ['LANC_like (E-value: 4.4e-44, bitscore: 140.3, seeds: 47, tool: rule-based-clusters)']\n",
      "    Key: source, Value: ['Prodigal_v2.6.3']\n",
      "    Key: transl_table, Value: ['11']\n",
      "    Key: translation, Value: ['VTTALTSAVLSTTDKIAKALRDPSSAWPNGRPAGGRAWPQSLAGGACGIALLHIERARTGHGDWDTAHTWLAEAVGGEISAADNANLYFGASALAYITHRAASSSSRYLPLLNHLDTATLTVTRIRIAAAHQRIDRAEPVPMEEFDLIQGLSGLGAYHLSRHPHHEITRDTLTYLVRLTEPLSVPTGLPPWWMDVAPTGAPHPDYPDGHGNFGLAHGIGAALAVLSQALLHEVTVPGMTDAVARICAWTDRWRQGDDNHPWWPGHITARQAADRHVHADLRPRPSWCYGASGTARAQQLAGLALGDPARVQLAENAILDALRDPDQLSKLREIGLCHGMAGLLHAGWRMATETGNPEITAELPHLAERLIAALDQDTQDPELLDGSAGAALALHTYATAVAPAPHWDTFLSLA']\n",
      "\n",
      "<class 'list'>\n",
      "['__add__', '__class__', '__contains__', '__delattr__', '__delitem__', '__dir__', '__doc__', '__eq__', '__format__', '__ge__', '__getattribute__', '__getitem__', '__gt__', '__hash__', '__iadd__', '__imul__', '__init__', '__init_subclass__', '__iter__', '__le__', '__len__', '__lt__', '__mul__', '__ne__', '__new__', '__reduce__', '__reduce_ex__', '__repr__', '__reversed__', '__rmul__', '__setattr__', '__setitem__', '__sizeof__', '__str__', '__subclasshook__', 'append', 'clear', 'copy', 'count', 'extend', 'index', 'insert', 'pop', 'remove', 'reverse', 'sort']\n",
      "['__add__', '__bool__', '__class__', '__contains__', '__delattr__', '__dict__', '__dir__', '__doc__', '__eq__', '__format__', '__ge__', '__getattribute__', '__getitem__', '__gt__', '__hash__', '__init__', '__init_subclass__', '__iter__', '__le__', '__le___', '__len__', '__lt__', '__module__', '__ne__', '__new__', '__radd__', '__reduce__', '__reduce_ex__', '__repr__', '__setattr__', '__sizeof__', '__str__', '__subclasshook__', '__weakref__', '_per_letter_annotations', '_seq', '_set_per_letter_annotations', '_set_seq', 'annotations', 'dbxrefs', 'description', 'features', 'format', 'id', 'letter_annotations', 'lower', 'name', 'reverse_complement', 'seq', 'translate', 'upper']\n"
     ]
    }
   ],
   "source": [
    "#print(genome_record)\n",
    "#print(genome_record.features)\n",
    "#print(dir(genome_record))\n",
    "print(genome_record.features[10])\n",
    "print(type(genome_record.features))\n",
    "print(dir(genome_record.features))\n",
    "print(dir(genome_record))"
   ]
  },
  {
   "cell_type": "code",
   "execution_count": 12,
   "metadata": {},
   "outputs": [
    {
     "name": "stdout",
     "output_type": "stream",
     "text": [
      "test_contig_245285\tstr\n"
     ]
    }
   ],
   "source": [
    "print(genome_record.description + '\\t' + 'str')"
   ]
  },
  {
   "cell_type": "code",
   "execution_count": 13,
   "metadata": {},
   "outputs": [
    {
     "name": "stdout",
     "output_type": "stream",
     "text": [
      "protocluster\n",
      "proto_core\n",
      "cand_cluster\n",
      "region\n",
      "CDS\n",
      "CDS\n",
      "CDS\n",
      "CDS\n",
      "CDS\n",
      "PFAM_domain\n",
      "CDS\n",
      "PFAM_domain\n",
      "CDS\n",
      "PFAM_domain\n",
      "PFAM_domain\n",
      "PFAM_domain\n",
      "misc_feature\n",
      "CDS\n",
      "CDS_motif\n",
      "CDS_motif\n",
      "CDS\n",
      "PFAM_domain\n",
      "CDS\n",
      "CDS\n",
      "CDS\n"
     ]
    }
   ],
   "source": [
    "\n",
    "for i in genome_record.features:\n",
    "    #print(i.type)\n",
    "    print(i.type) #print(i.location)"
   ]
  },
  {
   "cell_type": "code",
   "execution_count": 21,
   "metadata": {},
   "outputs": [],
   "source": [
    "#write gff outfile with all the types entrees for antismash annotation from gbk file \n",
    "with open(r'./mg.all.gff', 'w') as out:\n",
    "    #for line in lines: \n",
    "    #    out.write('\\n' % line)\n",
    "    out.write('\\n'.join(lines))\n",
    "\n",
    "#write gff outfile for CDS regions which have actual \n",
    "with open(r'./mg.CDS.counts.gff', 'w') as CDS_out:\n",
    "    for line in lines:\n",
    "        if line.__contains__('gene_functions'):\n",
    "            CDS_out.write(line + '\\n')\n",
    "\n",
    "with open(r'./mg.Pfam.counts.gff', 'w') as Pfam_out:\n",
    "    for line in lines:\n",
    "        if line.__contains__('PFAM_domain'):\n",
    "            Pfam_out.write(line + '\\n')"
   ]
  },
  {
   "cell_type": "code",
   "execution_count": 15,
   "metadata": {},
   "outputs": [
    {
     "name": "stdout",
     "output_type": "stream",
     "text": [
      "['__add__', '__class__', '__contains__', '__delattr__', '__dir__', '__doc__', '__eq__', '__format__', '__ge__', '__getattribute__', '__getitem__', '__getnewargs__', '__gt__', '__hash__', '__init__', '__init_subclass__', '__iter__', '__le__', '__len__', '__lt__', '__mod__', '__mul__', '__ne__', '__new__', '__reduce__', '__reduce_ex__', '__repr__', '__rmod__', '__rmul__', '__setattr__', '__sizeof__', '__str__', '__subclasshook__', 'capitalize', 'casefold', 'center', 'count', 'encode', 'endswith', 'expandtabs', 'find', 'format', 'format_map', 'index', 'isalnum', 'isalpha', 'isascii', 'isdecimal', 'isdigit', 'isidentifier', 'islower', 'isnumeric', 'isprintable', 'isspace', 'istitle', 'isupper', 'join', 'ljust', 'lower', 'lstrip', 'maketrans', 'partition', 'replace', 'rfind', 'rindex', 'rjust', 'rpartition', 'rsplit', 'rstrip', 'split', 'splitlines', 'startswith', 'strip', 'swapcase', 'title', 'translate', 'upper', 'zfill']\n"
     ]
    }
   ],
   "source": [
    "print(dir(str))"
   ]
  },
  {
   "cell_type": "code",
   "execution_count": 22,
   "metadata": {},
   "outputs": [],
   "source": [
    "def make_lines(file_path):\n",
    "    genome_record = SeqIO.read(file_path, 'genbank')\n",
    "    \n",
    "    lines = []\n",
    "    line = ''\n",
    "    for i in range(len(genome_record.features)):\n",
    "        #check if the type of region/feature is a coding sequence/annotated region with the 'phase' qualifier/key, to also include along the line\n",
    "        if genome_record.features[i].qualifiers.__contains__('phase'):\n",
    "            #check if annotation is from a 'tool' a 'aStool' or a 'source' to include in the second column \n",
    "            if genome_record.features[i].qualifiers.__contains__('tool'):\n",
    "                string = str(genome_record.description) + '\\t' + str(genome_record.features[i].qualifiers['tool'][0]) + ' ' + str(genome_record.features[i].type) + '\\t' + str(genome_record.features[i].location.start) + '\\t' + str(genome_record.features[i].location.end) + '\\t' + '.' + '\\t' + str(genome_record.features[i].location)[-2] + '\\t' + str(genome_record.features[i].qualifiers['phase'][0]) + '\\t'\n",
    "            else:\n",
    "                if genome_record.features[i].qualifiers.__contains__('aStool'):\n",
    "                    string = str(genome_record.description) + '\\t' + str(genome_record.features[i].qualifiers['aStool'][0]) + ' ' + str(genome_record.features[i].type) + '\\t' + str(genome_record.features[i].location.start) + '\\t' + str(genome_record.features[i].location.end) + '\\t' + '.' + '\\t' + str(genome_record.features[i].location)[-2] + '\\t' + str(genome_record.features[i].qualifiers['phase'][0]) + '\\t'\n",
    "                else:\n",
    "                    string = str(genome_record.description) + '\\t' + str(genome_record.features[i].qualifiers['source'][0]) + ' ' + str(genome_record.features[i].type) + '\\t' + str(genome_record.features[i].location.start) + '\\t' + str(genome_record.features[i].location.end) + '\\t' + '.' + '\\t' + str(genome_record.features[i].location)[-2] + '\\t' + str(genome_record.features[i].qualifiers['phase'][0]) + '\\t'\n",
    "        else:\n",
    "            if genome_record.features[i].qualifiers.__contains__('tool'):\n",
    "                string = str(genome_record.description) + '\\t' + str(genome_record.features[i].qualifiers['tool'][0]) + ' ' + str(genome_record.features[i].type) + '\\t' + str(genome_record.features[i].location.start) + '\\t' + str(genome_record.features[i].location.end) + '\\t' + '.' + '\\t' + str(genome_record.features[i].location)[-2] + '\\t' \n",
    "            else:\n",
    "                if genome_record.features[i].qualifiers.__contains__('aStool'):\n",
    "                    string = str(genome_record.description) + '\\t' + str(genome_record.features[i].qualifiers['aStool'][0]) + ' ' + str(genome_record.features[i].type) + '\\t' + str(genome_record.features[i].location.start) + '\\t' + str(genome_record.features[i].location.end) + '\\t' + '.' + '\\t' + str(genome_record.features[i].location)[-2] + '\\t'\n",
    "                else:\n",
    "                    string = str(genome_record.description) + '\\t' + str(genome_record.features[i].qualifiers['source'][0]) + ' ' + str(genome_record.features[i].type) + '\\t' + str(genome_record.features[i].location.start) + '\\t' + str(genome_record.features[i].location.end) + '\\t' + '.' + '\\t' + str(genome_record.features[i].location)[-2] + '\\t'\n",
    "        \n",
    "        attributess = ''\n",
    "        for key in genome_record.features[i].qualifiers:\n",
    "        #print(i, qualif_dict[i])\n",
    "            if key ==  'ID' or key == 'gene' or key == 'translation' or key == 'partial' or key == 'domain_id':\n",
    "                pass\n",
    "            else:\n",
    "                if len(genome_record.features[i].qualifiers[key]) > 1:\n",
    "                    temp = str(key) + '=' + str(genome_record.features[i].qualifiers[key]) + ';' \n",
    "                    attributess = attributess + str(temp)\n",
    "                else:\n",
    "                #print(len(genome_record.features[i].qualifiers[key]))\n",
    "                    temp = str(key) + '=' + str(genome_record.features[i].qualifiers[key][0]) + ';' \n",
    "                    attributess = attributess + str(temp)\n",
    "        #attributess \n",
    "        line = line + string + attributess\n",
    "        lines.append(str(line))\n",
    "        line = ''\n",
    "    #return list of all the lines \n",
    "    return lines \n"
   ]
  },
  {
   "cell_type": "code",
   "execution_count": 26,
   "metadata": {},
   "outputs": [],
   "source": [
    "import glob \n",
    "filenames = glob.glob('../OUTPUTS/IMP3_assembly/T_722_5/antismash_output' + \"/test_contig_*.gbk\") \n",
    "\n",
    "#loop over all the gbk files in the list and apply the above function to all\n",
    "file_list = []\n",
    "#for each file(by calling the name) in the list of file names\n",
    "for file in filenames:\n",
    "    #\n",
    "    tmp_file = make_lines(file)\n",
    "    file_list = file_list + tmp_file"
   ]
  },
  {
   "cell_type": "code",
   "execution_count": 28,
   "metadata": {},
   "outputs": [],
   "source": [
    "#write gff outfile with all the types entrees for antismash annotation from gbk file \n",
    "with open(r'./mg.all.gff', 'w') as out:\n",
    "    #for line in lines: \n",
    "    #    out.write('\\n' % line)\n",
    "    out.write('\\n'.join(file_list))\n",
    "\n",
    "#write gff outfile for CDS regions which have actual annotated locus tags with identified gene_functions\n",
    "with open(r'./mg.CDS.counts.gff', 'w') as CDS_out:\n",
    "    for line in file_list:\n",
    "        if line.__contains__('gene_functions'):\n",
    "            CDS_out.write(line + '\\n')\n",
    "\n",
    "#write gff outfile for found regions from Pfam database \n",
    "with open(r'./mg.Pfam.counts.gff', 'w') as Pfam_out:\n",
    "    for line in file_list:\n",
    "        if line.__contains__('PFAM_domain'):\n",
    "            Pfam_out.write(line + '\\n')"
   ]
  }
 ],
 "metadata": {
  "kernelspec": {
   "display_name": "Python 3.8.5 ('base')",
   "language": "python",
   "name": "python3"
  },
  "language_info": {
   "codemirror_mode": {
    "name": "ipython",
    "version": 3
   },
   "file_extension": ".py",
   "mimetype": "text/x-python",
   "name": "python",
   "nbconvert_exporter": "python",
   "pygments_lexer": "ipython3",
   "version": "3.8.5"
  },
  "orig_nbformat": 4,
  "vscode": {
   "interpreter": {
    "hash": "0dd84e6e4655a1be09e25480d2aa07830f784093fb8ac0847c23715d011b335f"
   }
  }
 },
 "nbformat": 4,
 "nbformat_minor": 2
}
