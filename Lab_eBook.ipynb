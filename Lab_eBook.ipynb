{
 "cells": [
  {
   "cell_type": "markdown",
   "metadata": {},
   "source": [
    "## Functional Analyses of the Rhizosphere Microbiome in Strigolactone-deficient Tomatoes\n",
    "\n",
    "__Masters Minor Research Project__  <br>\n",
    "__Duration:__ Sept 2022 - Dec 2022 \n",
    "<br>\n",
    "\n",
    "\n",
    "\n",
    "__Author:__ Susana Lopez Lemarroy\n",
    "__Internship Supervisor:__ Dr. Anna Heintz-Buschart \n",
    "__Masters Program:__ MSc Bioinformatics and Systems Biology (Vrije Universiteit van Amsterdam & University of Amsterdam)\n",
    "__Host Institute:__ Swammerdam Institute of Life Sciences (SILS) at University of Amsterdam (UvA)\n",
    "__Research Group:__ Biosystems Data Analysis\n",
    "__Focus:__ Microbial Metagenomics "
   ]
  },
  {
   "cell_type": "markdown",
   "metadata": {},
   "source": [
    "### Week 1 - Sept 5th - Sept 9th \n",
    "\n",
    "__Sept 5__ \n",
    "\n",
    "Intro talk with Anna\n",
    "Chronchomics documentation and tutorial \n",
    "\n",
    "__Sept 6__ \n",
    "\n",
    "\n",
    "Checklist:\n",
    "    - Installed miniconda on omics server personal account \n",
    "    - Watched Lecture 1 of Metagenomics course\n",
    "    - Completed Tutorial 1 of Metagenomics course \n",
    "        - \n",
    "    - Read Snakemake documentation  \n",
    "    - Started lab eBook\n",
    "\n",
    "\n",
    "Sept 7 - \n",
    "\n",
    "Checklist:\n",
    "    - read IMP3 documentation \n",
    "\n",
    "\n",
    "Sept 8 - \n",
    "\n",
    "\n",
    "\n",
    "Sept 9 - \n",
    "\n",
    "11 am meeting with Anna \n",
    "    - where data will go \n",
    "    - expectations\n",
    "    - research project rubric "
   ]
  }
 ],
 "metadata": {
  "language_info": {
   "name": "python"
  },
  "orig_nbformat": 4
 },
 "nbformat": 4,
 "nbformat_minor": 2
}
