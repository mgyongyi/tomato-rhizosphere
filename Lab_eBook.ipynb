{
 "cells": [
  {
   "cell_type": "markdown",
   "metadata": {},
   "source": [
    "# Lab eBook \n",
    "\n",
    "Research Journal to keep a record of daily achievements and performance through out the research project. "
   ]
  },
  {
   "cell_type": "markdown",
   "metadata": {},
   "source": [
    "### Week 1 - Sept 5th - Sept 9th \n",
    "\n",
    "__Sept 5__ \n",
    "\n",
    "- Intro talk with Anna\n",
    "- Chrunchomics documentation and tutorial, resulting in configuration of personal account \n",
    "- Entered the omics server through the head node and explored: ssh -X 14108550@omics-h0.science.uva.nl \n",
    "\n",
    "__Sept 6__ \n",
    "\n",
    "\n",
    "- Checklist:\n",
    "    - Installed miniconda on omics server personal account \n",
    "    - Watched Lecture 1 of Metagenomics course\n",
    "        - Metagenomics 101: https://staff.fnwi.uva.nl/a.u.s.heintzbuschart/metagenomics_00.html \n",
    "    - Completed Tutorial 1 of Metagenomics course \n",
    "        - Set up: didn't initialize miniconda since it had already been used before and saved data in personal directory.\n",
    "        - First test-run of IMP3 in Crunchomics - dry run to test configuration_\n",
    "            - /zfs/omics/projects/metatools/TOOLS/IMP3/runIMP3 -d my.config.yaml\n",
    "            - desired output: This was a dry-run (flag -n). The order of jobs does __not__ reflect the order of execution.\n",
    "        - Submitted the first test run to the compute nodes of crunchomics server in node 3 with omics-cn003.\n",
    "            - first check the available nodes: sinfo -o \"%n %e %m %a %c %C\" \n",
    "        - IMP3 inputs: data and configuration file \n",
    "            - my.config.yaml configuration file is the only required argument and specifies the input data. \n",
    "            - code used to commit the real run to the compute node, which includes more arguments than the previous dry run: \n",
    "                - /zfs/omics/projects/metatools/TOOLS/IMP3/runIMP3 -c -r -n TESTRUN -b omics-cn002 my.config.yaml \n",
    "    - Read Snakemake documentation \n",
    "        - Tutorial: https://snakemake.readthedocs.io/en/stable/tutorial/tutorial.html#\n",
    "        - Academic Article: https://f1000research.com/articles/10-33/v2 \n",
    "        - website: https://snakemake.github.io/  \n",
    "    - Created github repository and started lab eBook\n",
    "\n",
    "\n",
    "__Sept 7__ \n",
    "\n",
    "- Checklist:\n",
    "    - Metagenomics Lecture 2: Raw Data Preprocessing and QC \n",
    "        - .fastq files tools resource: http://barcwiki.wi.mit.edu/wiki/SOPs/qc_shortReads \n",
    "    - Metagenomics Tutorial 2: Run Preprocessing on Toy Data\n",
    "        - Finding Novaseq file in reads data - the GCEF.test.r1.fq and GCEF.test.r2.fq are novaseq\n",
    "        - code used to modify the configuration file __prep.1.config.yaml__ to use datasets COSMIC_vag.test.r1.fq and COSMIC_vag.test.r2.fq instead of the default test data, by manually changing inside the configuration file by using nano command: \n",
    "            - raws:\n",
    "                Metagenomics: \"/zfs/omics/projects/metatools/SANDBOX/Metagenomics101/EXAMPLE_DATA/READS/COSMIC_vag.test.r1.fq /zfs/omics/projects/metatools/SANDBOX/Metagenomics101/EXAMPLE_DATA/READS/COSMIC_vag.test.r2.fq\"\n",
    "        - made a copy of prep.1.config.yaml to be able to run both configuration at the same time and have their own output directories. \n",
    "        - code used to modify the configuration file __prep.2.config.yaml__ to use datasets GCEF.test.r1.fq and GCEF.test.r2.fq instead of the default test data, by manually changing inside the configuration file by using __nano__ command: \n",
    "            - raws:\n",
    "                Metagenomics: \"/zfs/omics/projects/metatools/SANDBOX/Metagenomics101/EXAMPLE_DATA/READS/GCEF.test.r1.fq /zfs/omics/projects/metatools/SANDBOX/Metagenomics101/EXAMPLE_DATA/READS/GCEF.test.r2.fq\"\n",
    "            - also changed the output directory to __IMP3_test_preprocessing_novaseq__, and nextseq argument to __true__. \n",
    "        - performed the dry run and obtained desired output:\n",
    "            - /zfs/omics/projects/metatools/TOOLS/IMP3/runIMP3 -d prep.1.config.yaml \n",
    "            - /zfs/omics/projects/metatools/TOOLS/IMP3/runIMP3 -d prep.2.config.yaml \n",
    "        - both runs were commited to node 2:\n",
    "            - /zfs/omics/projects/metatools/TOOLS/IMP3/runIMP3 -c -r -n TESTRUN -b omics-cn002 prep.1.config.yaml\n",
    "            - /zfs/omics/projects/metatools/TOOLS/IMP3/runIMP3 -c -r -n TESTRUN -b omics-cn002 prep.2.config.yaml\n",
    "        - The dataset COSMIC_vag.test.r1|2.fq comes from a sample that contains still host genomics DNA\n",
    "            - prep.1.config.yaml was copied to prep.3.config.yaml and a new configuration was specified with the same test data, a new output directory __IMP3_test_preprocessing_hg38filtering__, and the filtering was specified to hg38 to filter out the human genome \n",
    "            - dry run was performed and successful \n",
    "            - run was submitted to node 4: \n",
    "                - /zfs/omics/projects/metatools/TOOLS/IMP3/runIMP3 -c -r -n TESTRUN -b omics-cn004 prep.3.config.yaml\n",
    "    - read IMP3 documentation \n",
    "    - read Research project rubric \n",
    "    - read antiSMASH paper \n",
    "\n",
    "\n",
    "Sept 8 - \n",
    "\n",
    "\n",
    "\n",
    "Sept 9 - \n",
    "\n",
    "11 am meeting with Anna \n",
    "    - where data will go \n",
    "    - expectations\n",
    "    - research project rubric "
   ]
  }
 ],
 "metadata": {
  "kernelspec": {
   "display_name": "Python 3.8.2 64-bit",
   "language": "python",
   "name": "python3"
  },
  "language_info": {
   "name": "python",
   "version": "3.8.2"
  },
  "orig_nbformat": 4,
  "vscode": {
   "interpreter": {
    "hash": "31f2aee4e71d21fbe5cf8b01ff0e069b9275f58929596ceb00d14d90e3e16cd6"
   }
  }
 },
 "nbformat": 4,
 "nbformat_minor": 2
}
