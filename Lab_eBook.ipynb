{
 "cells": [
  {
   "cell_type": "markdown",
   "metadata": {},
   "source": [
    "# Lab eBook \n",
    "\n",
    "Research Journal to keep a record of daily achievements and performance through out the research project. "
   ]
  },
  {
   "cell_type": "markdown",
   "metadata": {},
   "source": [
    "### Week 1 - Sept 5th - Sept 9th \n",
    "\n",
    "__Sept 5__ \n",
    "\n",
    "- Intro talk with Anna\n",
    "- Chronchomics documentation and tutorial \n",
    "\n",
    "__Sept 6__ \n",
    "\n",
    "\n",
    "Checklist:\n",
    "    - Installed miniconda on omics server personal account \n",
    "    - Watched Lecture 1 of Metagenomics course\n",
    "    - Completed Tutorial 1 of Metagenomics course \n",
    "        - \n",
    "    - Read Snakemake documentation  \n",
    "    - Started lab eBook\n",
    "\n",
    "\n",
    "Sept 7 - \n",
    "\n",
    "Checklist:\n",
    "    - read IMP3 documentation \n",
    "\n",
    "\n",
    "Sept 8 - \n",
    "\n",
    "\n",
    "\n",
    "Sept 9 - \n",
    "\n",
    "11 am meeting with Anna \n",
    "    - where data will go \n",
    "    - expectations\n",
    "    - research project rubric "
   ]
  }
 ],
 "metadata": {
  "kernelspec": {
   "display_name": "Python 3.8.2 64-bit",
   "language": "python",
   "name": "python3"
  },
  "language_info": {
   "name": "python",
   "version": "3.8.2"
  },
  "orig_nbformat": 4,
  "vscode": {
   "interpreter": {
    "hash": "31f2aee4e71d21fbe5cf8b01ff0e069b9275f58929596ceb00d14d90e3e16cd6"
   }
  }
 },
 "nbformat": 4,
 "nbformat_minor": 2
}
