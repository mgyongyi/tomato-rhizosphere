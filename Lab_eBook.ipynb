{
 "cells": [
  {
   "cell_type": "markdown",
   "metadata": {},
   "source": [
    "## Functional Analyses of the Rhizosphere Microbiome in Strigolactone-deficient Tomatoes\n",
    "\n",
    "- Duration: Sept 2022 - Dec 2022 \n",
    "- Masters Minor Research Project \n",
    "\n",
    "\n",
    "- Author: Susana Lopez Lemarroy\n",
    "- Internship Supervisor: Dr. Anna Heintz-Buschart \n",
    "- Masters: MSc Bioinformatics and Systems Biology (Vrije Universiteit van Amsterdam & University of Amsterdam)\n",
    "- Institute: Swammerdam Institute of Life Sciences (SILS) at University of Amsterdam (UvA)\n",
    "- Research Group: Biosystems Data Analysis\n",
    "- Focus: Microbial Metagenomics "
   ]
  }
 ],
 "metadata": {
  "language_info": {
   "name": "python"
  },
  "orig_nbformat": 4
 },
 "nbformat": 4,
 "nbformat_minor": 2
}
