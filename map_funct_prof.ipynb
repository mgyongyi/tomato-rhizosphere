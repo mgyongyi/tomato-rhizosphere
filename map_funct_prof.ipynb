{
 "cells": [
  {
   "cell_type": "code",
   "execution_count": 72,
   "metadata": {},
   "outputs": [],
   "source": [
    "#import libraries\n",
    "import glob \n",
    "import pandas as pd \n",
    "import re \n",
    "import numpy as np"
   ]
  },
  {
   "cell_type": "code",
   "execution_count": 73,
   "metadata": {},
   "outputs": [],
   "source": [
    "#list of files from directory folder \n",
    "#The glob module finds all the pathnames matching a specified pattern\n",
    "\n",
    "filenames = glob.glob(\"../Pfam_output/\" + \"/*.tsv\") \n",
    "\n",
    "file_list = []\n",
    "for file in filenames:\n",
    "    name = re.search('output/(.+?).tsv', file)\n",
    "    if name:\n",
    "        column_name = name.group(1)\n",
    "    sample_df = pd.read_table(file, sep='\\t', skiprows = 1, index_col='Geneid', usecols=['Geneid','Assembly/mg.reads.sorted.bam'], header = 0)\n",
    "    sample_df.rename(columns={'Assembly/mg.reads.sorted.bam': column_name}, inplace= True)\n",
    "    file_list.append(sample_df)\n",
    "\n",
    "#Concatenate all DataFrames\n",
    "#samples with no reads mapped to certain KOs are filled with NaNs \n",
    "big_df   = pd.concat(file_list, axis = 1 , join = 'outer')"
   ]
  },
  {
   "cell_type": "code",
   "execution_count": 74,
   "metadata": {},
   "outputs": [
    {
     "name": "stdout",
     "output_type": "stream",
     "text": [
      "                 T_722_9   T_712_2   T_712_4   T_712_7   T_712_6  T_712_14  \\\n",
      "Tautomerase       3612.0    2736.0    3234.0    2550.0    2718.0    3321.0   \n",
      "AAA              52487.0   37781.0   35858.0   36402.0   37791.0   39178.0   \n",
      "DNA_processg_A   10083.0    6850.0    6953.0    6433.0    7036.0    7381.0   \n",
      "LysR_substrate  184559.0  128395.0  152738.0  129096.0  150866.0  142729.0   \n",
      "adh_short_C2    200891.0  142667.0  134660.0  133062.0  140452.0  149871.0   \n",
      "...                  ...       ...       ...       ...       ...       ...   \n",
      "DUF3593              NaN       NaN       NaN       NaN       NaN       NaN   \n",
      "DUF3172              NaN       NaN       NaN       NaN       NaN       NaN   \n",
      "Ldt_C                NaN       NaN       NaN       NaN       NaN       NaN   \n",
      "SHIRT                NaN       NaN       NaN       NaN       NaN       NaN   \n",
      "LepB_N               NaN       NaN       NaN       NaN       NaN       NaN   \n",
      "\n",
      "                 T_712_8   T_712_9  T_712_13  T_712_11   T_722_5   T_722_6  \\\n",
      "Tautomerase       3211.0    3734.0    3250.0    3007.0    3835.0    3476.0   \n",
      "AAA              40382.0   41648.0   38485.0   35267.0   46004.0   46421.0   \n",
      "DNA_processg_A    7519.0    7054.0    7418.0    6196.0    8668.0    7849.0   \n",
      "LysR_substrate  157615.0  147211.0  177306.0  132360.0  189088.0  170710.0   \n",
      "adh_short_C2    156069.0  156949.0  146956.0  132753.0  179674.0  174645.0   \n",
      "...                  ...       ...       ...       ...       ...       ...   \n",
      "DUF3593              NaN       NaN       NaN       NaN       NaN       NaN   \n",
      "DUF3172              NaN       NaN       NaN       NaN       NaN       NaN   \n",
      "Ldt_C                NaN       NaN       NaN       NaN       NaN       NaN   \n",
      "SHIRT                NaN       NaN       NaN       NaN       NaN       NaN   \n",
      "LepB_N               NaN       NaN       NaN       NaN       NaN       NaN   \n",
      "\n",
      "                T_722_12   T_722_1  \n",
      "Tautomerase       3361.0    3873.0  \n",
      "AAA              47256.0   44877.0  \n",
      "DNA_processg_A    8144.0    7690.0  \n",
      "LysR_substrate  158270.0  172988.0  \n",
      "adh_short_C2    173172.0  175572.0  \n",
      "...                  ...       ...  \n",
      "DUF3593              NaN       4.0  \n",
      "DUF3172              NaN       5.0  \n",
      "Ldt_C                NaN       4.0  \n",
      "SHIRT                NaN       5.0  \n",
      "LepB_N               NaN       6.0  \n",
      "\n",
      "[11461 rows x 14 columns]\n"
     ]
    }
   ],
   "source": [
    "print(big_df)\n",
    "\n",
    "#DO A FEATURE SELECTION ON KOs TO OBTAIN MOST SIGNIFICANTLY DIFFERENT ONES BETWEEN THE SAMPLES - \n",
    "#TRY TO GROUP THE SAMPLES PER SAMPLE TYPE FOR THIS \n",
    "#may have to consider the NaNs "
   ]
  },
  {
   "cell_type": "code",
   "execution_count": 75,
   "metadata": {},
   "outputs": [
    {
     "data": {
      "text/html": [
       "<div>\n",
       "<style scoped>\n",
       "    .dataframe tbody tr th:only-of-type {\n",
       "        vertical-align: middle;\n",
       "    }\n",
       "\n",
       "    .dataframe tbody tr th {\n",
       "        vertical-align: top;\n",
       "    }\n",
       "\n",
       "    .dataframe thead th {\n",
       "        text-align: right;\n",
       "    }\n",
       "</style>\n",
       "<table border=\"1\" class=\"dataframe\">\n",
       "  <thead>\n",
       "    <tr style=\"text-align: right;\">\n",
       "      <th></th>\n",
       "      <th>T_722_9</th>\n",
       "    </tr>\n",
       "  </thead>\n",
       "  <tbody>\n",
       "    <tr>\n",
       "      <th>Tautomerase</th>\n",
       "      <td>3612</td>\n",
       "    </tr>\n",
       "    <tr>\n",
       "      <th>AAA</th>\n",
       "      <td>52487</td>\n",
       "    </tr>\n",
       "    <tr>\n",
       "      <th>DNA_processg_A</th>\n",
       "      <td>10083</td>\n",
       "    </tr>\n",
       "    <tr>\n",
       "      <th>LysR_substrate</th>\n",
       "      <td>184559</td>\n",
       "    </tr>\n",
       "    <tr>\n",
       "      <th>adh_short_C2</th>\n",
       "      <td>200891</td>\n",
       "    </tr>\n",
       "    <tr>\n",
       "      <th>...</th>\n",
       "      <td>...</td>\n",
       "    </tr>\n",
       "    <tr>\n",
       "      <th>PT-TG</th>\n",
       "      <td>7</td>\n",
       "    </tr>\n",
       "    <tr>\n",
       "      <th>DUF2114</th>\n",
       "      <td>3</td>\n",
       "    </tr>\n",
       "    <tr>\n",
       "      <th>zinc-ribbons_6</th>\n",
       "      <td>5</td>\n",
       "    </tr>\n",
       "    <tr>\n",
       "      <th>CDC37_N</th>\n",
       "      <td>10</td>\n",
       "    </tr>\n",
       "    <tr>\n",
       "      <th>Mo25</th>\n",
       "      <td>5</td>\n",
       "    </tr>\n",
       "  </tbody>\n",
       "</table>\n",
       "<p>8969 rows × 1 columns</p>\n",
       "</div>"
      ],
      "text/plain": [
       "               T_722_9\n",
       "Tautomerase       3612\n",
       "AAA              52487\n",
       "DNA_processg_A   10083\n",
       "LysR_substrate  184559\n",
       "adh_short_C2    200891\n",
       "...                ...\n",
       "PT-TG                7\n",
       "DUF2114              3\n",
       "zinc-ribbons_6       5\n",
       "CDC37_N             10\n",
       "Mo25                 5\n",
       "\n",
       "[8969 rows x 1 columns]"
      ]
     },
     "execution_count": 75,
     "metadata": {},
     "output_type": "execute_result"
    }
   ],
   "source": [
    "#import readline\n",
    "\n",
    "\n",
    "openfile = open(\"../Pfam_output/T_722_9.tsv\", \"r\")\n",
    "#header = openfile.readline()\n",
    "genes = []\n",
    "mapcounts = []\n",
    "for line in openfile:\n",
    "    if line.startswith('#'):\n",
    "        header = openfile.readline()\n",
    "    else: \n",
    "        columns = line.strip().split('\\t')\n",
    "        GeneID = columns[0]\n",
    "        MappedReads = columns[6]\n",
    "        genes.append(GeneID)\n",
    "        mapcounts.append(MappedReads)\n",
    "df1 = pd.DataFrame(mapcounts, index = genes, columns = ['T_722_9'])\n",
    "df1      "
   ]
  },
  {
   "cell_type": "code",
   "execution_count": 76,
   "metadata": {},
   "outputs": [],
   "source": [
    "\n",
    "big_df.to_csv(\"Pfam_profile.csv\", )\n"
   ]
  }
 ],
 "metadata": {
  "kernelspec": {
   "display_name": "Python 3.8.5 ('base')",
   "language": "python",
   "name": "python3"
  },
  "language_info": {
   "codemirror_mode": {
    "name": "ipython",
    "version": 3
   },
   "file_extension": ".py",
   "mimetype": "text/x-python",
   "name": "python",
   "nbconvert_exporter": "python",
   "pygments_lexer": "ipython3",
   "version": "3.8.5"
  },
  "orig_nbformat": 4,
  "vscode": {
   "interpreter": {
    "hash": "0dd84e6e4655a1be09e25480d2aa07830f784093fb8ac0847c23715d011b335f"
   }
  }
 },
 "nbformat": 4,
 "nbformat_minor": 2
}
