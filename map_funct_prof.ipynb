{
 "cells": [
  {
   "cell_type": "code",
   "execution_count": 1,
   "metadata": {},
   "outputs": [],
   "source": [
    "#import libraries\n",
    "import glob \n",
    "import pandas as pd \n",
    "import re \n",
    "import numpy as np"
   ]
  },
  {
   "cell_type": "code",
   "execution_count": 16,
   "metadata": {},
   "outputs": [
    {
     "name": "stdout",
     "output_type": "stream",
     "text": [
      "T_MMA_12\n",
      "T_CCD8_3\n",
      "T_MMA_13\n",
      "T_MMA_11\n",
      "T_CCD8_1\n",
      "T_CCD8_5\n",
      "T_722_9\n",
      "T_CCD8_7\n",
      "T_GUS_25\n",
      "T_712_2\n",
      "T_GUS_18\n",
      "T_GUS_26\n",
      "T_GUS_23\n",
      "T_712_4\n",
      "T_GUS_20\n",
      "T_712_7\n",
      "T_712_6\n",
      "T_GUS_21\n",
      "T_712_18\n",
      "T_EP_4\n",
      "T_712_14\n",
      "T_712_16\n",
      "T_GUS_13\n",
      "T_712_8\n",
      "T_712_9\n",
      "T_GUS_12\n",
      "T_712_13\n",
      "T_GUS_16\n",
      "T_EP_2\n",
      "T_EP_3\n",
      "T_EP_1\n",
      "T_712_11\n",
      "T_CCD8_10\n",
      "T_722_5\n",
      "T_722_16\n",
      "T_722_17\n",
      "T_MMA_1\n",
      "T_CCD8_9\n",
      "T_MMA_3\n",
      "T_CCD8_13\n",
      "T_722_6\n",
      "T_722_15\n",
      "T_CCD8_8\n",
      "T_CCD8_16\n",
      "T_MMA_6\n",
      "T_CCD8_15\n",
      "T_MMA_5\n",
      "T_722_1\n",
      "T_MMA_4\n",
      "T_CCD8_14\n"
     ]
    }
   ],
   "source": [
    "#list of files from directory folder \n",
    "#The glob module finds all the pathnames matching a specified pattern\n",
    "\n",
    "filenames = glob.glob(\"../OUTPUTS/db_xref_output\" + \"/*.tsv\") \n",
    "\n",
    "file_list = []\n",
    "for file in filenames:\n",
    "    name = re.search('output/(.+?).tsv', file)\n",
    "    #\n",
    "    if name:\n",
    "        column_name = name.group(1)\n",
    "        print(column_name)\n",
    "    sample_df = pd.read_table(file, sep='\\t', skiprows = 1, index_col='Geneid', usecols=['Geneid','Assembly/mg.reads.sorted.bam'], header = 0)\n",
    "    sample_df.rename(columns={'Assembly/mg.reads.sorted.bam': column_name}, inplace= True)\n",
    "    file_list.append(sample_df)\n",
    "\n",
    "#Concatenate all DataFrames\n",
    "#samples with no reads mapped to certain KOs are filled with NaNs \n",
    "big_df   = pd.concat(file_list, axis = 1 , join = 'outer')"
   ]
  },
  {
   "cell_type": "code",
   "execution_count": 5,
   "metadata": {},
   "outputs": [
    {
     "data": {
      "text/plain": [
       "'Pfam'"
      ]
     },
     "execution_count": 5,
     "metadata": {},
     "output_type": "execute_result"
    }
   ],
   "source": [
    "file_path = \"Pfam_output\"\n",
    "output_name = file_path.split('_')[0]\n",
    "output_name"
   ]
  },
  {
   "cell_type": "code",
   "execution_count": 8,
   "metadata": {},
   "outputs": [
    {
     "name": "stdout",
     "output_type": "stream",
     "text": [
      "                 T_MMA_12  T_CCD8_3  T_MMA_13  T_MMA_11  T_CCD8_1  T_CCD8_5  \\\n",
      "DNA_pol3_beta_2    5746.0    6764.0    4713.0    6267.0    6339.0    6071.0   \n",
      "XFP_N             12627.0   13301.0   11074.0   11931.0   13121.0   12362.0   \n",
      "Response_reg     303850.0  296361.0  298001.0  279266.0  325817.0  269978.0   \n",
      "HTH_25             3435.0    3120.0    3175.0    2855.0    3583.0    3335.0   \n",
      "CCG               18435.0   19576.0   16289.0   16778.0   20772.0   18624.0   \n",
      "...                   ...       ...       ...       ...       ...       ...   \n",
      "DUF4515               NaN       NaN       NaN       NaN       NaN       NaN   \n",
      "PSGP                  NaN       NaN       NaN       NaN       NaN       NaN   \n",
      "NGF                   NaN       NaN       NaN       NaN       NaN       NaN   \n",
      "DUF562                NaN       NaN       NaN       NaN       NaN       NaN   \n",
      "zf-UDP                NaN       NaN       NaN       NaN       NaN       NaN   \n",
      "\n",
      "                  T_722_9  T_CCD8_7  T_GUS_25   T_712_2  ...  T_CCD8_8  \\\n",
      "DNA_pol3_beta_2    6093.0    5673.0    5486.0    4331.0  ...    5589.0   \n",
      "XFP_N             13946.0   11153.0   11910.0   10262.0  ...    9540.0   \n",
      "Response_reg     304750.0  330136.0  334374.0  216346.0  ...  280860.0   \n",
      "HTH_25             3277.0    3148.0    3949.0    2413.0  ...    2629.0   \n",
      "CCG               20044.0   17758.0   18928.0   15604.0  ...   15869.0   \n",
      "...                   ...       ...       ...       ...  ...       ...   \n",
      "DUF4515               NaN       NaN       NaN       NaN  ...       NaN   \n",
      "PSGP                  NaN       NaN       NaN       NaN  ...       NaN   \n",
      "NGF                   NaN       NaN       NaN       NaN  ...       NaN   \n",
      "DUF562                NaN       NaN       NaN       NaN  ...       NaN   \n",
      "zf-UDP                NaN       NaN       NaN       NaN  ...       NaN   \n",
      "\n",
      "                 T_CCD8_16   T_MMA_6  T_CCD8_15   T_MMA_5  T_722_13  T_722_12  \\\n",
      "DNA_pol3_beta_2     5326.0    5264.0     5683.0    4689.0    5284.0    5490.0   \n",
      "XFP_N              11846.0    9944.0    11863.0   10451.0   10194.0   10417.0   \n",
      "Response_reg      293663.0  229468.0   303684.0  264195.0  276497.0  283978.0   \n",
      "HTH_25              3075.0    2394.0     3211.0    2470.0    2572.0    3065.0   \n",
      "CCG                17414.0   15008.0    18197.0   15747.0   16115.0   17728.0   \n",
      "...                    ...       ...        ...       ...       ...       ...   \n",
      "DUF4515                NaN       NaN        NaN       NaN       NaN       NaN   \n",
      "PSGP                   NaN       NaN        NaN       NaN       NaN       NaN   \n",
      "NGF                    NaN       NaN        NaN       NaN       NaN       NaN   \n",
      "DUF562                 NaN       NaN        NaN       NaN       NaN       NaN   \n",
      "zf-UDP                 NaN       NaN        NaN       NaN       NaN       NaN   \n",
      "\n",
      "                  T_722_1   T_MMA_4  T_CCD8_14  \n",
      "DNA_pol3_beta_2    5475.0    5459.0     4632.0  \n",
      "XFP_N             11489.0   10795.0    11515.0  \n",
      "Response_reg     276305.0  261929.0   310558.0  \n",
      "HTH_25             3094.0    2735.0     3556.0  \n",
      "CCG               17371.0   16408.0    18186.0  \n",
      "...                   ...       ...        ...  \n",
      "DUF4515               NaN       NaN        3.0  \n",
      "PSGP                  NaN       NaN        3.0  \n",
      "NGF                   NaN       NaN        4.0  \n",
      "DUF562                NaN       NaN       20.0  \n",
      "zf-UDP                NaN       NaN       18.0  \n",
      "\n",
      "[12669 rows x 54 columns]\n"
     ]
    }
   ],
   "source": [
    "print(big_df)\n",
    "\n",
    "#DO A FEATURE SELECTION ON KOs TO OBTAIN MOST SIGNIFICANTLY DIFFERENT ONES BETWEEN THE SAMPLES - \n",
    "#TRY TO GROUP THE SAMPLES PER SAMPLE TYPE FOR THIS \n",
    "#may have to consider the NaNs "
   ]
  },
  {
   "cell_type": "code",
   "execution_count": 9,
   "metadata": {},
   "outputs": [
    {
     "data": {
      "text/html": [
       "<div>\n",
       "<style scoped>\n",
       "    .dataframe tbody tr th:only-of-type {\n",
       "        vertical-align: middle;\n",
       "    }\n",
       "\n",
       "    .dataframe tbody tr th {\n",
       "        vertical-align: top;\n",
       "    }\n",
       "\n",
       "    .dataframe thead th {\n",
       "        text-align: right;\n",
       "    }\n",
       "</style>\n",
       "<table border=\"1\" class=\"dataframe\">\n",
       "  <thead>\n",
       "    <tr style=\"text-align: right;\">\n",
       "      <th></th>\n",
       "      <th>T_722_9</th>\n",
       "    </tr>\n",
       "  </thead>\n",
       "  <tbody>\n",
       "    <tr>\n",
       "      <th>Tautomerase</th>\n",
       "      <td>3612</td>\n",
       "    </tr>\n",
       "    <tr>\n",
       "      <th>AAA</th>\n",
       "      <td>52487</td>\n",
       "    </tr>\n",
       "    <tr>\n",
       "      <th>DNA_processg_A</th>\n",
       "      <td>10083</td>\n",
       "    </tr>\n",
       "    <tr>\n",
       "      <th>LysR_substrate</th>\n",
       "      <td>184559</td>\n",
       "    </tr>\n",
       "    <tr>\n",
       "      <th>adh_short_C2</th>\n",
       "      <td>200891</td>\n",
       "    </tr>\n",
       "    <tr>\n",
       "      <th>...</th>\n",
       "      <td>...</td>\n",
       "    </tr>\n",
       "    <tr>\n",
       "      <th>PT-TG</th>\n",
       "      <td>7</td>\n",
       "    </tr>\n",
       "    <tr>\n",
       "      <th>DUF2114</th>\n",
       "      <td>3</td>\n",
       "    </tr>\n",
       "    <tr>\n",
       "      <th>zinc-ribbons_6</th>\n",
       "      <td>5</td>\n",
       "    </tr>\n",
       "    <tr>\n",
       "      <th>CDC37_N</th>\n",
       "      <td>10</td>\n",
       "    </tr>\n",
       "    <tr>\n",
       "      <th>Mo25</th>\n",
       "      <td>5</td>\n",
       "    </tr>\n",
       "  </tbody>\n",
       "</table>\n",
       "<p>8969 rows × 1 columns</p>\n",
       "</div>"
      ],
      "text/plain": [
       "               T_722_9\n",
       "Tautomerase       3612\n",
       "AAA              52487\n",
       "DNA_processg_A   10083\n",
       "LysR_substrate  184559\n",
       "adh_short_C2    200891\n",
       "...                ...\n",
       "PT-TG                7\n",
       "DUF2114              3\n",
       "zinc-ribbons_6       5\n",
       "CDC37_N             10\n",
       "Mo25                 5\n",
       "\n",
       "[8969 rows x 1 columns]"
      ]
     },
     "execution_count": 9,
     "metadata": {},
     "output_type": "execute_result"
    }
   ],
   "source": [
    "#import readline\n",
    "\n",
    "\n",
    "openfile = open(\"../Pfam_output/T_722_9.tsv\", \"r\")\n",
    "#header = openfile.readline()\n",
    "genes = []\n",
    "mapcounts = []\n",
    "for line in openfile:\n",
    "    if line.startswith('#'):\n",
    "        header = openfile.readline()\n",
    "    else: \n",
    "        columns = line.strip().split('\\t')\n",
    "        GeneID = columns[0]\n",
    "        MappedReads = columns[6]\n",
    "        genes.append(GeneID)\n",
    "        mapcounts.append(MappedReads)\n",
    "df1 = pd.DataFrame(mapcounts, index = genes, columns = ['T_722_9'])\n",
    "df1      "
   ]
  },
  {
   "cell_type": "code",
   "execution_count": 17,
   "metadata": {},
   "outputs": [],
   "source": [
    "\n",
    "big_df.to_csv(\"db_xref_profile.csv\")\n"
   ]
  }
 ],
 "metadata": {
  "kernelspec": {
   "display_name": "Python 3.8.5 ('base')",
   "language": "python",
   "name": "python3"
  },
  "language_info": {
   "codemirror_mode": {
    "name": "ipython",
    "version": 3
   },
   "file_extension": ".py",
   "mimetype": "text/x-python",
   "name": "python",
   "nbconvert_exporter": "python",
   "pygments_lexer": "ipython3",
   "version": "3.8.5"
  },
  "orig_nbformat": 4,
  "vscode": {
   "interpreter": {
    "hash": "0dd84e6e4655a1be09e25480d2aa07830f784093fb8ac0847c23715d011b335f"
   }
  }
 },
 "nbformat": 4,
 "nbformat_minor": 2
}
