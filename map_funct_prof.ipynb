{
 "cells": [
  {
   "cell_type": "code",
   "execution_count": 35,
   "metadata": {},
   "outputs": [],
   "source": [
    "#import libraries\n",
    "import glob \n",
    "import pandas as pd \n",
    "import re "
   ]
  },
  {
   "cell_type": "code",
   "execution_count": 58,
   "metadata": {},
   "outputs": [],
   "source": [
    "#list of files from directory folder \n",
    "#The glob module finds all the pathnames matching a specified pattern\n",
    "\n",
    "filenames = glob.glob(\"../Pfam_output/\" + \"/*.tsv\") \n",
    "\n",
    "file_list = []\n",
    "for file in filenames:\n",
    "    name = re.search('output/(.+?).tsv', file)\n",
    "    if name:\n",
    "        column_name = name.group(1)\n",
    "    sample_df = pd.read_table(file, sep='\\t', skiprows = 1, index_col='Geneid', usecols=['Geneid','Assembly/mg.reads.sorted.bam'], header = 0)\n",
    "    sample_df.rename(columns={'Assembly/mg.reads.sorted.bam': column_name}, inplace= True)\n",
    "    file_list.append(sample_df)\n",
    "\n",
    "#Concatenate all DataFrames\n",
    "big_df   = pd.concat(file_list, axis = 1 , join = 'inner')"
   ]
  },
  {
   "cell_type": "code",
   "execution_count": 59,
   "metadata": {},
   "outputs": [
    {
     "name": "stdout",
     "output_type": "stream",
     "text": [
      "                 T_722_9  T_712_2  T_712_4  T_712_7  T_712_6  T_712_14  \\\n",
      "Geneid                                                                   \n",
      "Tautomerase         3612     2736     3234     2550     2718      3321   \n",
      "AAA                52487    37781    35858    36402    37791     39178   \n",
      "DNA_processg_A     10083     6850     6953     6433     7036      7381   \n",
      "LysR_substrate    184559   128395   152738   129096   150866    142729   \n",
      "adh_short_C2      200891   142667   134660   133062   140452    149871   \n",
      "...                  ...      ...      ...      ...      ...       ...   \n",
      "TRM                   10       11       24        7       13        40   \n",
      "AAA_lid_7              4       21       27       21        9         5   \n",
      "Tai4                  34      106      308      157      164       202   \n",
      "Phage_head_fibr       10       62       18       51       59         6   \n",
      "MetallophosN           6       48       16       66       60        74   \n",
      "\n",
      "                 T_712_8  T_712_9  T_712_13  T_712_11  T_722_5  T_722_6  \\\n",
      "Geneid                                                                    \n",
      "Tautomerase         3211     3734      3250      3007     3835     3476   \n",
      "AAA                40382    41648     38485     35267    46004    46421   \n",
      "DNA_processg_A      7519     7054      7418      6196     8668     7849   \n",
      "LysR_substrate    157615   147211    177306    132360   189088   170710   \n",
      "adh_short_C2      156069   156949    146956    132753   179674   174645   \n",
      "...                  ...      ...       ...       ...      ...      ...   \n",
      "TRM                   33       47        12        13       23       42   \n",
      "AAA_lid_7             10       41        29        12       21        7   \n",
      "Tai4                 157      165       256       251      139      155   \n",
      "Phage_head_fibr       45       32       111        80        9       38   \n",
      "MetallophosN          19       46        23        46       60       72   \n",
      "\n",
      "                 T_722_12  T_722_1  \n",
      "Geneid                              \n",
      "Tautomerase          3361     3873  \n",
      "AAA                 47256    44877  \n",
      "DNA_processg_A       8144     7690  \n",
      "LysR_substrate     158270   172988  \n",
      "adh_short_C2       173172   175572  \n",
      "...                   ...      ...  \n",
      "TRM                    21       31  \n",
      "AAA_lid_7              39       25  \n",
      "Tai4                  107      168  \n",
      "Phage_head_fibr        40       49  \n",
      "MetallophosN          106       59  \n",
      "\n",
      "[6974 rows x 14 columns]\n"
     ]
    }
   ],
   "source": [
    "print(big_df)"
   ]
  },
  {
   "cell_type": "code",
   "execution_count": 34,
   "metadata": {},
   "outputs": [
    {
     "name": "stdout",
     "output_type": "stream",
     "text": [
      "T_722_9\n"
     ]
    },
    {
     "data": {
      "text/html": [
       "<div>\n",
       "<style scoped>\n",
       "    .dataframe tbody tr th:only-of-type {\n",
       "        vertical-align: middle;\n",
       "    }\n",
       "\n",
       "    .dataframe tbody tr th {\n",
       "        vertical-align: top;\n",
       "    }\n",
       "\n",
       "    .dataframe thead th {\n",
       "        text-align: right;\n",
       "    }\n",
       "</style>\n",
       "<table border=\"1\" class=\"dataframe\">\n",
       "  <thead>\n",
       "    <tr style=\"text-align: right;\">\n",
       "      <th></th>\n",
       "      <th>T_722_9</th>\n",
       "    </tr>\n",
       "    <tr>\n",
       "      <th>Geneid</th>\n",
       "      <th></th>\n",
       "    </tr>\n",
       "  </thead>\n",
       "  <tbody>\n",
       "    <tr>\n",
       "      <th>Tautomerase</th>\n",
       "      <td>3612</td>\n",
       "    </tr>\n",
       "    <tr>\n",
       "      <th>AAA</th>\n",
       "      <td>52487</td>\n",
       "    </tr>\n",
       "    <tr>\n",
       "      <th>DNA_processg_A</th>\n",
       "      <td>10083</td>\n",
       "    </tr>\n",
       "    <tr>\n",
       "      <th>LysR_substrate</th>\n",
       "      <td>184559</td>\n",
       "    </tr>\n",
       "    <tr>\n",
       "      <th>adh_short_C2</th>\n",
       "      <td>200891</td>\n",
       "    </tr>\n",
       "    <tr>\n",
       "      <th>...</th>\n",
       "      <td>...</td>\n",
       "    </tr>\n",
       "    <tr>\n",
       "      <th>PT-TG</th>\n",
       "      <td>7</td>\n",
       "    </tr>\n",
       "    <tr>\n",
       "      <th>DUF2114</th>\n",
       "      <td>3</td>\n",
       "    </tr>\n",
       "    <tr>\n",
       "      <th>zinc-ribbons_6</th>\n",
       "      <td>5</td>\n",
       "    </tr>\n",
       "    <tr>\n",
       "      <th>CDC37_N</th>\n",
       "      <td>10</td>\n",
       "    </tr>\n",
       "    <tr>\n",
       "      <th>Mo25</th>\n",
       "      <td>5</td>\n",
       "    </tr>\n",
       "  </tbody>\n",
       "</table>\n",
       "<p>8969 rows × 1 columns</p>\n",
       "</div>"
      ],
      "text/plain": [
       "                T_722_9\n",
       "Geneid                 \n",
       "Tautomerase        3612\n",
       "AAA               52487\n",
       "DNA_processg_A    10083\n",
       "LysR_substrate   184559\n",
       "adh_short_C2     200891\n",
       "...                 ...\n",
       "PT-TG                 7\n",
       "DUF2114               3\n",
       "zinc-ribbons_6        5\n",
       "CDC37_N              10\n",
       "Mo25                  5\n",
       "\n",
       "[8969 rows x 1 columns]"
      ]
     },
     "execution_count": 34,
     "metadata": {},
     "output_type": "execute_result"
    }
   ],
   "source": [
    "import re\n",
    "\n",
    "sample_df = pd.read_table('../Pfam_output/T_722_9.tsv', sep='\\t', skiprows = 1, index_col='Geneid', usecols=['Geneid','Assembly/mg.reads.sorted.bam'], header = 0)\n",
    "#filtered_df = \n",
    "file = '../Pfam_output/T_722_9.tsv'\n",
    "name = re.search('output/(.+?).tsv', file)\n",
    "if name:\n",
    "    column_name = name.group(1)\n",
    "print(column_name)\n",
    "sample_df.rename(columns={'Assembly/mg.reads.sorted.bam': column_name}, inplace= True)\n",
    "\n",
    "sample_df\n"
   ]
  },
  {
   "cell_type": "code",
   "execution_count": 22,
   "metadata": {},
   "outputs": [
    {
     "data": {
      "text/html": [
       "<div>\n",
       "<style scoped>\n",
       "    .dataframe tbody tr th:only-of-type {\n",
       "        vertical-align: middle;\n",
       "    }\n",
       "\n",
       "    .dataframe tbody tr th {\n",
       "        vertical-align: top;\n",
       "    }\n",
       "\n",
       "    .dataframe thead th {\n",
       "        text-align: right;\n",
       "    }\n",
       "</style>\n",
       "<table border=\"1\" class=\"dataframe\">\n",
       "  <thead>\n",
       "    <tr style=\"text-align: right;\">\n",
       "      <th></th>\n",
       "      <th>T_722_9</th>\n",
       "    </tr>\n",
       "  </thead>\n",
       "  <tbody>\n",
       "    <tr>\n",
       "      <th>Tautomerase</th>\n",
       "      <td>3612</td>\n",
       "    </tr>\n",
       "    <tr>\n",
       "      <th>AAA</th>\n",
       "      <td>52487</td>\n",
       "    </tr>\n",
       "    <tr>\n",
       "      <th>DNA_processg_A</th>\n",
       "      <td>10083</td>\n",
       "    </tr>\n",
       "    <tr>\n",
       "      <th>LysR_substrate</th>\n",
       "      <td>184559</td>\n",
       "    </tr>\n",
       "    <tr>\n",
       "      <th>adh_short_C2</th>\n",
       "      <td>200891</td>\n",
       "    </tr>\n",
       "    <tr>\n",
       "      <th>...</th>\n",
       "      <td>...</td>\n",
       "    </tr>\n",
       "    <tr>\n",
       "      <th>PT-TG</th>\n",
       "      <td>7</td>\n",
       "    </tr>\n",
       "    <tr>\n",
       "      <th>DUF2114</th>\n",
       "      <td>3</td>\n",
       "    </tr>\n",
       "    <tr>\n",
       "      <th>zinc-ribbons_6</th>\n",
       "      <td>5</td>\n",
       "    </tr>\n",
       "    <tr>\n",
       "      <th>CDC37_N</th>\n",
       "      <td>10</td>\n",
       "    </tr>\n",
       "    <tr>\n",
       "      <th>Mo25</th>\n",
       "      <td>5</td>\n",
       "    </tr>\n",
       "  </tbody>\n",
       "</table>\n",
       "<p>8969 rows × 1 columns</p>\n",
       "</div>"
      ],
      "text/plain": [
       "               T_722_9\n",
       "Tautomerase       3612\n",
       "AAA              52487\n",
       "DNA_processg_A   10083\n",
       "LysR_substrate  184559\n",
       "adh_short_C2    200891\n",
       "...                ...\n",
       "PT-TG                7\n",
       "DUF2114              3\n",
       "zinc-ribbons_6       5\n",
       "CDC37_N             10\n",
       "Mo25                 5\n",
       "\n",
       "[8969 rows x 1 columns]"
      ]
     },
     "execution_count": 22,
     "metadata": {},
     "output_type": "execute_result"
    }
   ],
   "source": [
    "#import readline\n",
    "\n",
    "\n",
    "openfile = open(\"../Pfam_output/T_722_9.tsv\", \"r\")\n",
    "#header = openfile.readline()\n",
    "genes = []\n",
    "mapcounts = []\n",
    "for line in openfile:\n",
    "    if line.startswith('#'):\n",
    "        header = openfile.readline()\n",
    "    else: \n",
    "        columns = line.strip().split('\\t')\n",
    "        GeneID = columns[0]\n",
    "        MappedReads = columns[6]\n",
    "        genes.append(GeneID)\n",
    "        mapcounts.append(MappedReads)\n",
    "df1 = pd.DataFrame(mapcounts, index = genes, columns = ['T_722_9'])\n",
    "df1      "
   ]
  },
  {
   "cell_type": "code",
   "execution_count": 38,
   "metadata": {},
   "outputs": [
    {
     "data": {
      "text/plain": [
       "T_722_9    53746\n",
       "Name: SLT, dtype: object"
      ]
     },
     "execution_count": 38,
     "metadata": {},
     "output_type": "execute_result"
    }
   ],
   "source": [
    "df1.loc['SLT']"
   ]
  },
  {
   "cell_type": "code",
   "execution_count": null,
   "metadata": {},
   "outputs": [],
   "source": []
  }
 ],
 "metadata": {
  "kernelspec": {
   "display_name": "Python 3.8.5 ('base')",
   "language": "python",
   "name": "python3"
  },
  "language_info": {
   "codemirror_mode": {
    "name": "ipython",
    "version": 3
   },
   "file_extension": ".py",
   "mimetype": "text/x-python",
   "name": "python",
   "nbconvert_exporter": "python",
   "pygments_lexer": "ipython3",
   "version": "3.8.5"
  },
  "orig_nbformat": 4,
  "vscode": {
   "interpreter": {
    "hash": "0dd84e6e4655a1be09e25480d2aa07830f784093fb8ac0847c23715d011b335f"
   }
  }
 },
 "nbformat": 4,
 "nbformat_minor": 2
}
